{
 "cells": [
  {
   "cell_type": "markdown",
   "id": "0fff933b-143a-4ec1-97a0-d7002d4088cb",
   "metadata": {},
   "source": [
    "---\n",
    "title: \"Lecture 4: LU factorization, Row pivoting\"\n",
    "author: \"Jamie Haddock\"\n",
    "format: \n",
    "    revealjs:\n",
    "        output-file: Lecture4_slides\n",
    "        slide-number: true\n",
    "        chalkboard: \n",
    "            buttons: false\n",
    "        preview-links: auto\n",
    "        logo: figs/hmc.png\n",
    "        css: input/slides.css\n",
    "        incremental: true\n",
    "        smaller: true\n",
    "        code-fold: true\n",
    "    html: \n",
    "        code-fold: true\n",
    "    pdf:\n",
    "        documentclass: article\n",
    "        toc: true\n",
    "        number-sections: true\n",
    "        geometry:\n",
    "          - top=1in\n",
    "          - left=1in\n",
    "          - bottom=1in\n",
    "          - right=1in\n",
    "format-links: false\n",
    "jupyter: julia-1.9\n",
    "filters: \n",
    "  - input/remove-pause.lua\n",
    "execute:\n",
    "  echo: true\n",
    "  eval: true\n",
    "---"
   ]
  },
  {
   "cell_type": "markdown",
   "id": "3f0926ec",
   "metadata": {},
   "source": [
    "# LU Factorization\n",
    "\n",
    "## Triangular Products"
   ]
  },
  {
   "cell_type": "code",
   "execution_count": 3,
   "id": "b2d73220",
   "metadata": {},
   "outputs": [
    {
     "data": {
      "text/plain": [
       "3×3 Matrix{Int64}:\n",
       " 6  0  0\n",
       " 7  3  0\n",
       " 7  2  5"
      ]
     },
     "execution_count": 3,
     "metadata": {},
     "output_type": "execute_result"
    }
   ],
   "source": [
    "using LinearAlgebra\n",
    "L = tril( rand(1:9,3,3) )"
   ]
  },
  {
   "cell_type": "code",
   "execution_count": 4,
   "id": "74973997",
   "metadata": {},
   "outputs": [
    {
     "data": {
      "text/plain": [
       "3×3 Matrix{Int64}:\n",
       " 4  6  9\n",
       " 0  6  6\n",
       " 0  0  9"
      ]
     },
     "execution_count": 4,
     "metadata": {},
     "output_type": "execute_result"
    }
   ],
   "source": [
    "U = triu( rand(1:9, 3,3) )"
   ]
  },
  {
   "cell_type": "code",
   "execution_count": 10,
   "id": "f21e3ad1",
   "metadata": {},
   "outputs": [
    {
     "data": {
      "text/plain": [
       "3×3 Matrix{Int64}:\n",
       " 24  36   54\n",
       " 28  60   81\n",
       " 28  54  120"
      ]
     },
     "execution_count": 10,
     "metadata": {},
     "output_type": "execute_result"
    }
   ],
   "source": [
    "L*U"
   ]
  },
  {
   "cell_type": "markdown",
   "id": "4eb214e2",
   "metadata": {},
   "source": [
    "---\n",
    "\n",
    "One view of matrix multiplication is as a sum of rank-one matrices formed as *outer products* of corresponding columns of $\\mathbf{A}$ and rows of $\\mathbf{B}$, $$\\mathbf{C} = \\sum_{k = 1}^n \\mathbf{A}_{:k} \\mathbf{B}_{k:}.$$"
   ]
  },
  {
   "cell_type": "code",
   "execution_count": 5,
   "id": "a2a0b631",
   "metadata": {},
   "outputs": [
    {
     "data": {
      "text/plain": [
       "3×3 Matrix{Int64}:\n",
       " 24  36  54\n",
       " 28  42  63\n",
       " 28  42  63"
      ]
     },
     "execution_count": 5,
     "metadata": {},
     "output_type": "execute_result"
    }
   ],
   "source": [
    "L[:,1]*U[1,:]'"
   ]
  },
  {
   "cell_type": "markdown",
   "id": "02bfb75f",
   "metadata": {},
   "source": [
    "Only the first outer product contributes to the first row and column of the product $\\mathbf{L}\\mathbf{U}$.\n",
    "\n",
    "---"
   ]
  },
  {
   "cell_type": "code",
   "execution_count": 6,
   "id": "646972b2",
   "metadata": {},
   "outputs": [
    {
     "data": {
      "text/plain": [
       "3×3 Matrix{Int64}:\n",
       " 0   0   0\n",
       " 0  18  18\n",
       " 0  12  12"
      ]
     },
     "execution_count": 6,
     "metadata": {},
     "output_type": "execute_result"
    }
   ],
   "source": [
    "L[:,2]*U[2,:]'"
   ]
  },
  {
   "cell_type": "code",
   "execution_count": 7,
   "id": "512669f1",
   "metadata": {},
   "outputs": [
    {
     "data": {
      "text/plain": [
       "3×3 Matrix{Int64}:\n",
       " 0  0   0\n",
       " 0  0   0\n",
       " 0  0  45"
      ]
     },
     "execution_count": 7,
     "metadata": {},
     "output_type": "execute_result"
    }
   ],
   "source": [
    "L[:,3]*U[3,:]'"
   ]
  },
  {
   "cell_type": "markdown",
   "id": "d8c3d714",
   "metadata": {},
   "source": [
    "The triangular zero structures of these matrices create rows and columns of zeros in the inner product."
   ]
  },
  {
   "cell_type": "markdown",
   "id": "883c9169",
   "metadata": {},
   "source": [
    "## Triangular factorization\n",
    "\n",
    "When factorizing $n \\times n$ matrix $\\mathbf{A}$ into a triangular product $\\mathbf{L}\\mathbf{U}$, note that $\\mathbf{L}$ and $\\mathbf{U}$ have $n^2 + n > n^2$ entries, so we may choose the diagonal entries of $\\mathbf{L}$ to be one (a **unit lower triangular** matrix). "
   ]
  },
  {
   "cell_type": "code",
   "execution_count": 11,
   "id": "fc70ab28",
   "metadata": {},
   "outputs": [],
   "source": [
    "A₁ = [\n",
    "    2 0 4 3\n",
    "    -4 5 -7 -10\n",
    "    1 15 2 -4.5\n",
    "    -2 0 2 -13\n",
    "];\n",
    "L = diagm(ones(4))\n",
    "U = zeros(4,4);"
   ]
  },
  {
   "cell_type": "markdown",
   "id": "17d9b8f3",
   "metadata": {},
   "source": [
    "[Since $L_{11} = 1$, the first row of $\\mathbf{U}$ is the first row of $\\mathbf{A}$.]{.content-hidden when-format='revealjs' when-format='pptx'} "
   ]
  },
  {
   "cell_type": "code",
   "execution_count": 12,
   "id": "f55913cd",
   "metadata": {},
   "outputs": [
    {
     "data": {
      "text/plain": [
       "4×4 Matrix{Float64}:\n",
       " 2.0  0.0  4.0  3.0\n",
       " 0.0  0.0  0.0  0.0\n",
       " 0.0  0.0  0.0  0.0\n",
       " 0.0  0.0  0.0  0.0"
      ]
     },
     "execution_count": 12,
     "metadata": {},
     "output_type": "execute_result"
    }
   ],
   "source": [
    "U[1,:] = A₁[1,:]\n",
    "U"
   ]
  },
  {
   "cell_type": "markdown",
   "id": "6a87bd70",
   "metadata": {},
   "source": [
    "---\n",
    "\n",
    "[The rest of the first column of $\\mathbf{L}$ can be computed from the first column of $\\mathbf{A}$ since only the first outer product contributes to this portion of $\\mathbf{A}$.]{.content-hidden when-format='revealjs' when-format='pptx'} "
   ]
  },
  {
   "cell_type": "code",
   "execution_count": 13,
   "id": "11e51d60",
   "metadata": {},
   "outputs": [
    {
     "data": {
      "text/plain": [
       "4×4 Matrix{Float64}:\n",
       "  1.0  0.0  0.0  0.0\n",
       " -2.0  1.0  0.0  0.0\n",
       "  0.5  0.0  1.0  0.0\n",
       " -1.0  0.0  0.0  1.0"
      ]
     },
     "execution_count": 13,
     "metadata": {},
     "output_type": "execute_result"
    }
   ],
   "source": [
    "L[:,1] = A₁[:,1]/U[1,1]\n",
    "L"
   ]
  },
  {
   "cell_type": "code",
   "execution_count": 14,
   "id": "11ab35c5",
   "metadata": {},
   "outputs": [
    {
     "data": {
      "text/plain": [
       "4×4 Matrix{Float64}:\n",
       " 0.0   0.0  0.0    0.0\n",
       " 0.0   5.0  1.0   -4.0\n",
       " 0.0  15.0  0.0   -6.0\n",
       " 0.0   0.0  6.0  -10.0"
      ]
     },
     "execution_count": 14,
     "metadata": {},
     "output_type": "execute_result"
    }
   ],
   "source": [
    "A₂ = A₁ - L[:,1]*U[1,:]'"
   ]
  },
  {
   "cell_type": "markdown",
   "id": "2b4e38b6",
   "metadata": {},
   "source": [
    "---\n",
    "\n",
    "[Using the same logic as before, we may set the second rows and columns of $\\mathbf{U}$ and $\\mathbf{L}$ using $\\mathbf{A}_2$.]{.content-hidden when-format='revealjs' when-format='pptx'} "
   ]
  },
  {
   "cell_type": "code",
   "execution_count": 16,
   "id": "deaa9df3",
   "metadata": {},
   "outputs": [],
   "source": [
    "U[2,:] = A₂[2,:]\n",
    "L[:,2] = A₂[:,2]/U[2,2];"
   ]
  },
  {
   "cell_type": "code",
   "execution_count": 17,
   "id": "76a0a03d",
   "metadata": {},
   "outputs": [
    {
     "data": {
      "text/plain": [
       "4×4 Matrix{Float64}:\n",
       " 0.0  0.0   0.0    0.0\n",
       " 0.0  0.0   0.0    0.0\n",
       " 0.0  0.0  -3.0    6.0\n",
       " 0.0  0.0   6.0  -10.0"
      ]
     },
     "execution_count": 17,
     "metadata": {},
     "output_type": "execute_result"
    }
   ],
   "source": [
    "A₃ = A₂ - L[:,2]*U[2,:]'"
   ]
  },
  {
   "cell_type": "markdown",
   "id": "2d64c271",
   "metadata": {},
   "source": [
    "---"
   ]
  },
  {
   "cell_type": "code",
   "execution_count": 18,
   "id": "eff370ca",
   "metadata": {},
   "outputs": [
    {
     "data": {
      "text/plain": [
       "4×4 Matrix{Float64}:\n",
       " 0.0  0.0  0.0  0.0\n",
       " 0.0  0.0  0.0  0.0\n",
       " 0.0  0.0  0.0  0.0\n",
       " 0.0  0.0  0.0  2.0"
      ]
     },
     "execution_count": 18,
     "metadata": {},
     "output_type": "execute_result"
    }
   ],
   "source": [
    "U[3,:] = A₃[3,:]\n",
    "L[:,3] = A₃[:,3]/U[3,3]\n",
    "A₄ = A₃ - L[:,3]*U[3,:]'"
   ]
  },
  {
   "cell_type": "code",
   "execution_count": 19,
   "id": "9d6129a5",
   "metadata": {},
   "outputs": [
    {
     "data": {
      "text/plain": [
       "4×4 Matrix{Float64}:\n",
       " 0.0  0.0  0.0  0.0\n",
       " 0.0  0.0  0.0  0.0\n",
       " 0.0  0.0  0.0  0.0\n",
       " 0.0  0.0  0.0  0.0"
      ]
     },
     "execution_count": 19,
     "metadata": {},
     "output_type": "execute_result"
    }
   ],
   "source": [
    "U[4,4] = A₄[4,4]\n",
    "\n",
    "A₁ - L*U"
   ]
  },
  {
   "cell_type": "markdown",
   "id": "2269594d",
   "metadata": {},
   "source": [
    ". . .\n",
    "\n",
    "::: {.callout-note icon=false}\n",
    "## Definition: LU factorization\n",
    "Given $n \\times n$ matrix $\\mathbf{A}$, its **LU factorization** is $$\\mathbf{A} = \\mathbf{L}\\mathbf{U},$$ where $\\mathbf{L}$ is a unit lower triangular matrix and $\\mathbf{U}$ is an upper triangular matrix.\n",
    ":::\n",
    "\n",
    "---"
   ]
  },
  {
   "cell_type": "code",
   "execution_count": 20,
   "id": "5682218c",
   "metadata": {},
   "outputs": [
    {
     "data": {
      "text/plain": [
       "lufact"
      ]
     },
     "execution_count": 20,
     "metadata": {},
     "output_type": "execute_result"
    }
   ],
   "source": [
    "\"\"\"\n",
    "    lufact(A)\n",
    "\n",
    "Compute the LU factorization of square matrix `A`, returning the factors.\n",
    "\"\"\"\n",
    "function lufact(A)\n",
    "    n = size(A,1)\n",
    "    L = diagm(ones(n))  #ones on diagonal, zeros elsewhere\n",
    "    U = zeros(n,n)\n",
    "    Ak = float(copy(A))\n",
    "\n",
    "    #Reduction by outer products\n",
    "    for k in 1:n-1\n",
    "        U[k,:] = Ak[k,:]\n",
    "        L[:,k] = Ak[:,k]/U[k,k]\n",
    "        Ak -= L[:,k]*U[k,:]'\n",
    "    end\n",
    "    U[n,n] = Ak[n,n]\n",
    "    return LowerTriangular(L),UpperTriangular(U)\n",
    "end"
   ]
  },
  {
   "cell_type": "markdown",
   "id": "7cd10887",
   "metadata": {},
   "source": [
    "## Solving linear systems with LU\n",
    "\n",
    "We can solve $\\mathbf{A}\\mathbf{x} = \\mathbf{b}$ with three steps:\n",
    "\n",
    "1. Factor $\\mathbf{A} = \\mathbf{L}\\mathbf{U}$.\n",
    "2. Solve $\\mathbf{L}\\mathbf{z} = \\mathbf{b}$ for $\\mathbf{z}$ using forward substitution.\n",
    "3. Solve $\\mathbf{U}\\mathbf{x} = \\mathbf{z}$ for $\\mathbf{x}$ using backward substitution.\n",
    "\n",
    ". . .\n",
    "\n",
    "::: {.callout-warning icon=false}\n",
    "## Lemma: \n",
    "Solving a triangular $n \\times n$ system by forward or backward substitution takes $\\mathcal{O}(n^2)$ flops asymptotically.\n",
    ":::\n",
    "\n",
    "[Let $f(n)$ and $g(n)$ be positive-valued functions.  We say $f(n) = \\mathcal{O}(g(n))$ as $n \\rightarrow \\infty$ if $f(n)/g(n)$ is bounded above as $n \\rightarrow \\infty$.]{.content-hidden when-format='revealjs' when-format='pptx'} \n",
    "\n",
    ". . .\n",
    "\n",
    "::: {.callout-warning icon=false}\n",
    "## Theorem: Efficiency of LU factorization\n",
    "The LU factorization of an $n \\times n$ matrix takes $\\mathcal{O}(n^3)$ flops as $n \\rightarrow \\infty$.  This dominates the cost of solving an $n \\times n$ system.\n",
    ":::\n",
    "\n",
    "---"
   ]
  },
  {
   "cell_type": "code",
   "execution_count": 21,
   "id": "116d16b9",
   "metadata": {},
   "outputs": [],
   "source": [
    "lu(randn(3,3)); #throwaway to force compilation of the lu function code_llvm\n",
    "\n",
    "n = 400:400:4000\n",
    "t = []\n",
    "for n in n\n",
    "    A = randn(n,n)\n",
    "    time = @elapsed for j in 1:12; lu(A); end\n",
    "    push!(t,time)\n",
    "end"
   ]
  },
  {
   "cell_type": "code",
   "execution_count": 24,
   "id": "f044ed91",
   "metadata": {},
   "outputs": [
    {
     "name": "stderr",
     "output_type": "stream",
     "text": [
      "WARNING: using Plots.rotate! in module Main conflicts with an existing identifier.\n"
     ]
    },
    {
     "data": {
      "image/png": "[encoded data removed]",
      "image/svg+xml": [
       "<?xml version=\"1.0\" encoding=\"utf-8\"?>\n",
       "<svg xmlns=\"http://www.w3.org/2000/svg\" xmlns:xlink=\"http://www.w3.org/1999/xlink\" width=\"600\" height=\"400\" viewBox=\"0 0 2400 1600\">\n",
       "<defs>\n",
       "  <clipPath id=\"clip140\">\n",
       "    <rect x=\"0\" y=\"0\" width=\"2400\" height=\"1600\"/>\n",
       "  </clipPath>\n",
       "</defs>\n",
       "<path clip-path=\"url(#clip140)\" d=\"M0 1600 L2400 1600 L2400 0 L0 0  Z\" fill=\"#ffffff\" fill-rule=\"evenodd\" fill-opacity=\"1\"/>\n",
       "<defs>\n",
       "  <clipPath id=\"clip141\">\n",
       "    <rect x=\"480\" y=\"0\" width=\"1681\" height=\"1600\"/>\n",
       "  </clipPath>\n",
       "</defs>\n",
       "<path clip-path=\"url(#clip140)\" d=\"M251.372 1410.9 L2352.76 1410.9 L2352.76 47.2441 L251.372 47.2441  Z\" fill=\"#ffffff\" fill-rule=\"evenodd\" fill-opacity=\"1\"/>\n",
       "<defs>\n",
       "  <clipPath id=\"clip142\">\n",
       "    <rect x=\"251\" y=\"47\" width=\"2102\" height=\"1365\"/>\n",
       "  </clipPath>\n",
       "</defs>\n",
       "<polyline clip-path=\"url(#clip142)\" style=\"stroke:#000000; stroke-linecap:round; stroke-linejoin:round; stroke-width:2; stroke-opacity:0.1; fill:none\" points=\"1099.74,1410.9 1099.74,47.2441 \"/>\n",
       "<polyline clip-path=\"url(#clip142)\" style=\"stroke:#000000; stroke-linecap:round; stroke-linejoin:round; stroke-width:2; stroke-opacity:0.1; fill:none\" points=\"2090.96,1410.9 2090.96,47.2441 \"/>\n",
       "<polyline clip-path=\"url(#clip142)\" style=\"stroke:#000000; stroke-linecap:round; stroke-linejoin:round; stroke-width:2; stroke-opacity:0.1; fill:none\" points=\"251.372,1168.82 2352.76,1168.82 \"/>\n",
       "<polyline clip-path=\"url(#clip142)\" style=\"stroke:#000000; stroke-linecap:round; stroke-linejoin:round; stroke-width:2; stroke-opacity:0.1; fill:none\" points=\"251.372,739.996 2352.76,739.996 \"/>\n",
       "<polyline clip-path=\"url(#clip142)\" style=\"stroke:#000000; stroke-linecap:round; stroke-linejoin:round; stroke-width:2; stroke-opacity:0.1; fill:none\" points=\"251.372,311.174 2352.76,311.174 \"/>\n",
       "<polyline clip-path=\"url(#clip140)\" style=\"stroke:#000000; stroke-linecap:round; stroke-linejoin:round; stroke-width:4; stroke-opacity:1; fill:none\" points=\"251.372,1410.9 2352.76,1410.9 \"/>\n",
       "<polyline clip-path=\"url(#clip140)\" style=\"stroke:#000000; stroke-linecap:round; stroke-linejoin:round; stroke-width:4; stroke-opacity:1; fill:none\" points=\"1099.74,1410.9 1099.74,1392 \"/>\n",
       "<polyline clip-path=\"url(#clip140)\" style=\"stroke:#000000; stroke-linecap:round; stroke-linejoin:round; stroke-width:4; stroke-opacity:1; fill:none\" points=\"2090.96,1410.9 2090.96,1392 \"/>\n",
       "<path clip-path=\"url(#clip140)\" d=\"M1046.54 1485.02 L1054.18 1485.02 L1054.18 1458.66 L1045.87 1460.32 L1045.87 1456.06 L1054.13 1454.4 L1058.81 1454.4 L1058.81 1485.02 L1066.45 1485.02 L1066.45 1488.96 L1046.54 1488.96 L1046.54 1485.02 Z\" fill=\"#000000\" fill-rule=\"nonzero\" fill-opacity=\"1\" /><path clip-path=\"url(#clip140)\" d=\"M1085.89 1457.48 Q1082.28 1457.48 1080.45 1461.04 Q1078.65 1464.58 1078.65 1471.71 Q1078.65 1478.82 1080.45 1482.38 Q1082.28 1485.92 1085.89 1485.92 Q1089.53 1485.92 1091.33 1482.38 Q1093.16 1478.82 1093.16 1471.71 Q1093.16 1464.58 1091.33 1461.04 Q1089.53 1457.48 1085.89 1457.48 M1085.89 1453.77 Q1091.7 1453.77 1094.76 1458.38 Q1097.84 1462.96 1097.84 1471.71 Q1097.84 1480.44 1094.76 1485.04 Q1091.7 1489.63 1085.89 1489.63 Q1080.08 1489.63 1077 1485.04 Q1073.95 1480.44 1073.95 1471.71 Q1073.95 1462.96 1077 1458.38 Q1080.08 1453.77 1085.89 1453.77 Z\" fill=\"#000000\" fill-rule=\"nonzero\" fill-opacity=\"1\" /><path clip-path=\"url(#clip140)\" d=\"M1110.53 1446.41 Q1113.26 1446.99 1114.78 1448.83 Q1116.33 1450.68 1116.33 1453.38 Q1116.33 1457.54 1113.47 1459.82 Q1110.61 1462.09 1105.34 1462.09 Q1103.57 1462.09 1101.69 1461.73 Q1099.83 1461.4 1097.84 1460.7 L1097.84 1457.03 Q1099.42 1457.95 1101.3 1458.42 Q1103.18 1458.89 1105.23 1458.89 Q1108.8 1458.89 1110.66 1457.48 Q1112.55 1456.07 1112.55 1453.38 Q1112.55 1450.9 1110.8 1449.51 Q1109.07 1448.1 1105.96 1448.1 L1102.69 1448.1 L1102.69 1444.98 L1106.11 1444.98 Q1108.92 1444.98 1110.4 1443.87 Q1111.89 1442.74 1111.89 1440.63 Q1111.89 1438.47 1110.34 1437.32 Q1108.82 1436.16 1105.96 1436.16 Q1104.4 1436.16 1102.61 1436.49 Q1100.83 1436.83 1098.68 1437.55 L1098.68 1434.16 Q1100.85 1433.56 1102.73 1433.26 Q1104.63 1432.96 1106.3 1432.96 Q1110.63 1432.96 1113.15 1434.93 Q1115.67 1436.89 1115.67 1440.24 Q1115.67 1442.57 1114.33 1444.19 Q1113 1445.79 1110.53 1446.41 Z\" fill=\"#000000\" fill-rule=\"nonzero\" fill-opacity=\"1\" /><path clip-path=\"url(#clip140)\" d=\"M1123.53 1456.77 L1127.5 1456.77 L1127.5 1461.55 L1123.53 1461.55 L1123.53 1456.77 Z\" fill=\"#000000\" fill-rule=\"nonzero\" fill-opacity=\"1\" /><path clip-path=\"url(#clip140)\" d=\"M1143.9 1435.97 Q1140.96 1435.97 1139.48 1438.86 Q1138.01 1441.74 1138.01 1447.53 Q1138.01 1453.31 1139.48 1456.2 Q1140.96 1459.08 1143.9 1459.08 Q1146.85 1459.08 1148.32 1456.2 Q1149.8 1453.31 1149.8 1447.53 Q1149.8 1441.74 1148.32 1438.86 Q1146.85 1435.97 1143.9 1435.97 M1143.9 1432.96 Q1148.62 1432.96 1151.1 1436.7 Q1153.6 1440.43 1153.6 1447.53 Q1153.6 1454.62 1151.1 1458.37 Q1148.62 1462.09 1143.9 1462.09 Q1139.18 1462.09 1136.68 1458.37 Q1134.19 1454.62 1134.19 1447.53 Q1134.19 1440.43 1136.68 1436.7 Q1139.18 1432.96 1143.9 1432.96 Z\" fill=\"#000000\" fill-rule=\"nonzero\" fill-opacity=\"1\" /><path clip-path=\"url(#clip140)\" d=\"M2038.16 1485.02 L2045.8 1485.02 L2045.8 1458.66 L2037.49 1460.32 L2037.49 1456.06 L2045.76 1454.4 L2050.43 1454.4 L2050.43 1485.02 L2058.07 1485.02 L2058.07 1488.96 L2038.16 1488.96 L2038.16 1485.02 Z\" fill=\"#000000\" fill-rule=\"nonzero\" fill-opacity=\"1\" /><path clip-path=\"url(#clip140)\" d=\"M2077.52 1457.48 Q2073.91 1457.48 2072.08 1461.04 Q2070.27 1464.58 2070.27 1471.71 Q2070.27 1478.82 2072.08 1482.38 Q2073.91 1485.92 2077.52 1485.92 Q2081.15 1485.92 2082.96 1482.38 Q2084.78 1478.82 2084.78 1471.71 Q2084.78 1464.58 2082.96 1461.04 Q2081.15 1457.48 2077.52 1457.48 M2077.52 1453.77 Q2083.33 1453.77 2086.38 1458.38 Q2089.46 1462.96 2089.46 1471.71 Q2089.46 1480.44 2086.38 1485.04 Q2083.33 1489.63 2077.52 1489.63 Q2071.71 1489.63 2068.63 1485.04 Q2065.57 1480.44 2065.57 1471.71 Q2065.57 1462.96 2068.63 1458.38 Q2071.71 1453.77 2077.52 1453.77 Z\" fill=\"#000000\" fill-rule=\"nonzero\" fill-opacity=\"1\" /><path clip-path=\"url(#clip140)\" d=\"M2102.16 1446.41 Q2104.88 1446.99 2106.41 1448.83 Q2107.95 1450.68 2107.95 1453.38 Q2107.95 1457.54 2105.09 1459.82 Q2102.23 1462.09 2096.97 1462.09 Q2095.2 1462.09 2093.32 1461.73 Q2091.45 1461.4 2089.46 1460.7 L2089.46 1457.03 Q2091.04 1457.95 2092.92 1458.42 Q2094.8 1458.89 2096.85 1458.89 Q2100.43 1458.89 2102.29 1457.48 Q2104.17 1456.07 2104.17 1453.38 Q2104.17 1450.9 2102.42 1449.51 Q2100.69 1448.1 2097.59 1448.1 L2094.31 1448.1 L2094.31 1444.98 L2097.74 1444.98 Q2100.54 1444.98 2102.02 1443.87 Q2103.51 1442.74 2103.51 1440.63 Q2103.51 1438.47 2101.97 1437.32 Q2100.44 1436.16 2097.59 1436.16 Q2096.02 1436.16 2094.24 1436.49 Q2092.45 1436.83 2090.31 1437.55 L2090.31 1434.16 Q2092.47 1433.56 2094.35 1433.26 Q2096.25 1432.96 2097.92 1432.96 Q2102.25 1432.96 2104.77 1434.93 Q2107.29 1436.89 2107.29 1440.24 Q2107.29 1442.57 2105.96 1444.19 Q2104.62 1445.79 2102.16 1446.41 Z\" fill=\"#000000\" fill-rule=\"nonzero\" fill-opacity=\"1\" /><path clip-path=\"url(#clip140)\" d=\"M2115.15 1456.77 L2119.12 1456.77 L2119.12 1461.55 L2115.15 1461.55 L2115.15 1456.77 Z\" fill=\"#000000\" fill-rule=\"nonzero\" fill-opacity=\"1\" /><path clip-path=\"url(#clip140)\" d=\"M2127.43 1433.47 L2142.35 1433.47 L2142.35 1436.66 L2130.91 1436.66 L2130.91 1443.55 Q2131.74 1443.27 2132.57 1443.13 Q2133.4 1442.98 2134.22 1442.98 Q2138.93 1442.98 2141.67 1445.56 Q2144.42 1448.14 2144.42 1452.54 Q2144.42 1457.07 2141.6 1459.59 Q2138.77 1462.09 2133.64 1462.09 Q2131.87 1462.09 2130.03 1461.79 Q2128.2 1461.49 2126.25 1460.89 L2126.25 1457.07 Q2127.94 1457.99 2129.75 1458.44 Q2131.55 1458.89 2133.56 1458.89 Q2136.82 1458.89 2138.72 1457.18 Q2140.62 1455.47 2140.62 1452.54 Q2140.62 1449.6 2138.72 1447.89 Q2136.82 1446.18 2133.56 1446.18 Q2132.04 1446.18 2130.52 1446.52 Q2129.01 1446.86 2127.43 1447.57 L2127.43 1433.47 Z\" fill=\"#000000\" fill-rule=\"nonzero\" fill-opacity=\"1\" /><path clip-path=\"url(#clip140)\" d=\"M1316.99 1552.67 L1316.99 1574.19 L1311.14 1574.19 L1311.14 1552.86 Q1311.14 1547.8 1309.16 1545.29 Q1307.19 1542.77 1303.24 1542.77 Q1298.5 1542.77 1295.76 1545.79 Q1293.02 1548.82 1293.02 1554.04 L1293.02 1574.19 L1287.14 1574.19 L1287.14 1538.54 L1293.02 1538.54 L1293.02 1544.08 Q1295.13 1540.86 1297.96 1539.27 Q1300.82 1537.68 1304.55 1537.68 Q1310.69 1537.68 1313.84 1541.5 Q1316.99 1545.29 1316.99 1552.67 Z\" fill=\"#000000\" fill-rule=\"nonzero\" fill-opacity=\"1\" /><polyline clip-path=\"url(#clip140)\" style=\"stroke:#000000; stroke-linecap:round; stroke-linejoin:round; stroke-width:4; stroke-opacity:1; fill:none\" points=\"251.372,1410.9 251.372,47.2441 \"/>\n",
       "<polyline clip-path=\"url(#clip140)\" style=\"stroke:#000000; stroke-linecap:round; stroke-linejoin:round; stroke-width:4; stroke-opacity:1; fill:none\" points=\"251.372,1168.82 270.27,1168.82 \"/>\n",
       "<polyline clip-path=\"url(#clip140)\" style=\"stroke:#000000; stroke-linecap:round; stroke-linejoin:round; stroke-width:4; stroke-opacity:1; fill:none\" points=\"251.372,739.996 270.27,739.996 \"/>\n",
       "<polyline clip-path=\"url(#clip140)\" style=\"stroke:#000000; stroke-linecap:round; stroke-linejoin:round; stroke-width:4; stroke-opacity:1; fill:none\" points=\"251.372,311.174 270.27,311.174 \"/>\n",
       "<path clip-path=\"url(#clip140)\" d=\"M115.232 1188.61 L122.871 1188.61 L122.871 1162.24 L114.561 1163.91 L114.561 1159.65 L122.825 1157.98 L127.501 1157.98 L127.501 1188.61 L135.14 1188.61 L135.14 1192.54 L115.232 1192.54 L115.232 1188.61 Z\" fill=\"#000000\" fill-rule=\"nonzero\" fill-opacity=\"1\" /><path clip-path=\"url(#clip140)\" d=\"M154.584 1161.06 Q150.973 1161.06 149.144 1164.63 Q147.339 1168.17 147.339 1175.3 Q147.339 1182.41 149.144 1185.97 Q150.973 1189.51 154.584 1189.51 Q158.218 1189.51 160.024 1185.97 Q161.852 1182.41 161.852 1175.3 Q161.852 1168.17 160.024 1164.63 Q158.218 1161.06 154.584 1161.06 M154.584 1157.36 Q160.394 1157.36 163.45 1161.97 Q166.528 1166.55 166.528 1175.3 Q166.528 1184.03 163.45 1188.63 Q160.394 1193.22 154.584 1193.22 Q148.774 1193.22 145.695 1188.63 Q142.64 1184.03 142.64 1175.3 Q142.64 1166.55 145.695 1161.97 Q148.774 1157.36 154.584 1157.36 Z\" fill=\"#000000\" fill-rule=\"nonzero\" fill-opacity=\"1\" /><path clip-path=\"url(#clip140)\" d=\"M166.528 1151.46 L190.64 1151.46 L190.64 1154.66 L166.528 1154.66 L166.528 1151.46 Z\" fill=\"#000000\" fill-rule=\"nonzero\" fill-opacity=\"1\" /><path clip-path=\"url(#clip140)\" d=\"M202.113 1161.94 L215.372 1161.94 L215.372 1165.13 L197.542 1165.13 L197.542 1161.94 Q199.705 1159.7 203.429 1155.94 Q207.172 1152.16 208.131 1151.07 Q209.956 1149.02 210.67 1147.61 Q211.404 1146.18 211.404 1144.8 Q211.404 1142.57 209.824 1141.15 Q208.263 1139.74 205.743 1139.74 Q203.956 1139.74 201.962 1140.36 Q199.987 1140.99 197.73 1142.25 L197.73 1138.41 Q200.025 1137.49 202.019 1137.02 Q204.012 1136.55 205.667 1136.55 Q210.031 1136.55 212.626 1138.73 Q215.222 1140.91 215.222 1144.56 Q215.222 1146.29 214.563 1147.85 Q213.924 1149.39 212.212 1151.5 Q211.742 1152.04 209.222 1154.66 Q206.702 1157.25 202.113 1161.94 Z\" fill=\"#000000\" fill-rule=\"nonzero\" fill-opacity=\"1\" /><path clip-path=\"url(#clip140)\" d=\"M114.931 759.788 L122.57 759.788 L122.57 733.422 L114.26 735.089 L114.26 730.83 L122.524 729.163 L127.2 729.163 L127.2 759.788 L134.839 759.788 L134.839 763.723 L114.931 763.723 L114.931 759.788 Z\" fill=\"#000000\" fill-rule=\"nonzero\" fill-opacity=\"1\" /><path clip-path=\"url(#clip140)\" d=\"M154.283 732.242 Q150.672 732.242 148.843 735.807 Q147.038 739.348 147.038 746.478 Q147.038 753.584 148.843 757.149 Q150.672 760.691 154.283 760.691 Q157.917 760.691 159.723 757.149 Q161.552 753.584 161.552 746.478 Q161.552 739.348 159.723 735.807 Q157.917 732.242 154.283 732.242 M154.283 728.538 Q160.093 728.538 163.149 733.145 Q166.227 737.728 166.227 746.478 Q166.227 755.205 163.149 759.811 Q160.093 764.395 154.283 764.395 Q148.473 764.395 145.394 759.811 Q142.339 755.205 142.339 746.478 Q142.339 737.728 145.394 733.145 Q148.473 728.538 154.283 728.538 Z\" fill=\"#000000\" fill-rule=\"nonzero\" fill-opacity=\"1\" /><path clip-path=\"url(#clip140)\" d=\"M166.227 722.64 L190.339 722.64 L190.339 725.837 L166.227 725.837 L166.227 722.64 Z\" fill=\"#000000\" fill-rule=\"nonzero\" fill-opacity=\"1\" /><path clip-path=\"url(#clip140)\" d=\"M199.197 733.116 L205.404 733.116 L205.404 711.693 L198.652 713.048 L198.652 709.587 L205.366 708.233 L209.166 708.233 L209.166 733.116 L215.372 733.116 L215.372 736.313 L199.197 736.313 L199.197 733.116 Z\" fill=\"#000000\" fill-rule=\"nonzero\" fill-opacity=\"1\" /><path clip-path=\"url(#clip140)\" d=\"M144.667 330.967 L152.305 330.967 L152.305 304.601 L143.995 306.268 L143.995 302.008 L152.259 300.342 L156.935 300.342 L156.935 330.967 L164.574 330.967 L164.574 334.902 L144.667 334.902 L144.667 330.967 Z\" fill=\"#000000\" fill-rule=\"nonzero\" fill-opacity=\"1\" /><path clip-path=\"url(#clip140)\" d=\"M184.018 303.42 Q180.407 303.42 178.578 306.985 Q176.773 310.527 176.773 317.656 Q176.773 324.763 178.578 328.328 Q180.407 331.869 184.018 331.869 Q187.652 331.869 189.458 328.328 Q191.287 324.763 191.287 317.656 Q191.287 310.527 189.458 306.985 Q187.652 303.42 184.018 303.42 M184.018 299.717 Q189.828 299.717 192.884 304.323 Q195.963 308.906 195.963 317.656 Q195.963 326.383 192.884 330.99 Q189.828 335.573 184.018 335.573 Q178.208 335.573 175.129 330.99 Q172.074 326.383 172.074 317.656 Q172.074 308.906 175.129 304.323 Q178.208 299.717 184.018 299.717 Z\" fill=\"#000000\" fill-rule=\"nonzero\" fill-opacity=\"1\" /><path clip-path=\"url(#clip140)\" d=\"M205.667 281.913 Q202.733 281.913 201.248 284.809 Q199.781 287.687 199.781 293.48 Q199.781 299.253 201.248 302.15 Q202.733 305.027 205.667 305.027 Q208.62 305.027 210.087 302.15 Q211.573 299.253 211.573 293.48 Q211.573 287.687 210.087 284.809 Q208.62 281.913 205.667 281.913 M205.667 278.903 Q210.388 278.903 212.871 282.646 Q215.372 286.37 215.372 293.48 Q215.372 300.57 212.871 304.313 Q210.388 308.037 205.667 308.037 Q200.947 308.037 198.445 304.313 Q195.963 300.57 195.963 293.48 Q195.963 286.37 198.445 282.646 Q200.947 278.903 205.667 278.903 Z\" fill=\"#000000\" fill-rule=\"nonzero\" fill-opacity=\"1\" /><path clip-path=\"url(#clip140)\" d=\"M44.7161 903.984 L47.5806 903.984 L47.5806 930.911 Q53.6281 930.529 56.8109 927.283 Q59.9619 924.004 59.9619 918.18 Q59.9619 914.806 59.1344 911.655 Q58.3069 908.472 56.6518 905.353 L62.1899 905.353 Q63.5267 908.504 64.227 911.814 Q64.9272 915.124 64.9272 918.53 Q64.9272 927.06 59.9619 932.057 Q54.9967 937.022 46.5303 937.022 Q37.7774 937.022 32.6531 932.311 Q27.4968 927.569 27.4968 919.548 Q27.4968 912.355 32.1438 908.185 Q36.7589 903.984 44.7161 903.984 M42.9973 909.841 Q38.1912 909.904 35.3266 912.546 Q32.4621 915.156 32.4621 919.485 Q32.4621 924.386 35.2312 927.346 Q38.0002 930.274 43.0292 930.72 L42.9973 909.841 Z\" fill=\"#000000\" fill-rule=\"nonzero\" fill-opacity=\"1\" /><path clip-path=\"url(#clip140)\" d=\"M14.479 894.372 L14.479 888.515 L64.0042 888.515 L64.0042 894.372 L14.479 894.372 Z\" fill=\"#000000\" fill-rule=\"nonzero\" fill-opacity=\"1\" /><path clip-path=\"url(#clip140)\" d=\"M46.0847 860.061 Q46.0847 867.158 47.7079 869.896 Q49.3312 872.633 53.2461 872.633 Q56.3653 872.633 58.2114 870.596 Q60.0256 868.527 60.0256 864.994 Q60.0256 860.124 56.5881 857.196 Q53.1188 854.236 47.3897 854.236 L46.0847 854.236 L46.0847 860.061 M43.6657 848.38 L64.0042 848.38 L64.0042 854.236 L58.5933 854.236 Q61.8398 856.241 63.3994 859.233 Q64.9272 862.225 64.9272 866.554 Q64.9272 872.028 61.8716 875.275 Q58.7843 878.489 53.6281 878.489 Q47.6125 878.489 44.5569 874.479 Q41.5014 870.437 41.5014 862.448 L41.5014 854.236 L40.9285 854.236 Q36.8862 854.236 34.6901 856.91 Q32.4621 859.551 32.4621 864.358 Q32.4621 867.413 33.1941 870.309 Q33.9262 873.206 35.3903 875.879 L29.9795 875.879 Q28.7381 872.665 28.1334 869.641 Q27.4968 866.617 27.4968 863.753 Q27.4968 856.018 31.5072 852.199 Q35.5176 848.38 43.6657 848.38 Z\" fill=\"#000000\" fill-rule=\"nonzero\" fill-opacity=\"1\" /><path clip-path=\"url(#clip140)\" d=\"M58.657 830.651 L77.5631 830.651 L77.5631 836.539 L28.3562 836.539 L28.3562 830.651 L33.7671 830.651 Q30.5842 828.805 29.0564 826.004 Q27.4968 823.171 27.4968 819.257 Q27.4968 812.763 32.6531 808.721 Q37.8093 804.647 46.212 804.647 Q54.6147 804.647 59.771 808.721 Q64.9272 812.763 64.9272 819.257 Q64.9272 823.171 63.3994 826.004 Q61.8398 828.805 58.657 830.651 M46.212 810.726 Q39.7508 810.726 36.0905 813.4 Q32.3984 816.042 32.3984 820.689 Q32.3984 825.336 36.0905 828.009 Q39.7508 830.651 46.212 830.651 Q52.6732 830.651 56.3653 828.009 Q60.0256 825.336 60.0256 820.689 Q60.0256 816.042 56.3653 813.4 Q52.6732 810.726 46.212 810.726 Z\" fill=\"#000000\" fill-rule=\"nonzero\" fill-opacity=\"1\" /><path clip-path=\"url(#clip140)\" d=\"M29.4065 772.214 L34.9447 772.214 Q33.6716 774.697 33.035 777.37 Q32.3984 780.044 32.3984 782.908 Q32.3984 787.269 33.7352 789.465 Q35.072 791.629 37.7456 791.629 Q39.7826 791.629 40.9603 790.07 Q42.1061 788.51 43.1565 783.8 L43.6021 781.794 Q44.9389 775.556 47.3897 772.946 Q49.8086 770.304 54.1691 770.304 Q59.1344 770.304 62.0308 774.251 Q64.9272 778.166 64.9272 785.041 Q64.9272 787.905 64.3543 791.025 Q63.8132 794.112 62.6992 797.549 L56.6518 797.549 Q58.3387 794.303 59.198 791.152 Q60.0256 788.001 60.0256 784.914 Q60.0256 780.776 58.6251 778.548 Q57.1929 776.32 54.6147 776.32 Q52.2276 776.32 50.9545 777.943 Q49.6813 779.535 48.5037 784.977 L48.0262 787.014 Q46.8804 792.457 44.5251 794.876 Q42.138 797.295 38.0002 797.295 Q32.9713 797.295 30.2341 793.73 Q27.4968 790.165 27.4968 783.609 Q27.4968 780.362 27.9743 777.497 Q28.4517 774.633 29.4065 772.214 Z\" fill=\"#000000\" fill-rule=\"nonzero\" fill-opacity=\"1\" /><path clip-path=\"url(#clip140)\" d=\"M44.7161 730.487 L47.5806 730.487 L47.5806 757.414 Q53.6281 757.032 56.8109 753.785 Q59.9619 750.507 59.9619 744.682 Q59.9619 741.308 59.1344 738.157 Q58.3069 734.975 56.6518 731.855 L62.1899 731.855 Q63.5267 735.006 64.227 738.317 Q64.9272 741.627 64.9272 745.032 Q64.9272 753.562 59.9619 758.56 Q54.9967 763.525 46.5303 763.525 Q37.7774 763.525 32.6531 758.814 Q27.4968 754.072 27.4968 746.051 Q27.4968 738.858 32.1438 734.688 Q36.7589 730.487 44.7161 730.487 M42.9973 736.343 Q38.1912 736.407 35.3266 739.049 Q32.4621 741.659 32.4621 745.987 Q32.4621 750.889 35.2312 753.849 Q38.0002 756.777 43.0292 757.223 L42.9973 736.343 Z\" fill=\"#000000\" fill-rule=\"nonzero\" fill-opacity=\"1\" /><path clip-path=\"url(#clip140)\" d=\"M33.7671 697.417 L14.479 697.417 L14.479 691.56 L64.0042 691.56 L64.0042 697.417 L58.657 697.417 Q61.8398 699.263 63.3994 702.096 Q64.9272 704.897 64.9272 708.843 Q64.9272 715.305 59.771 719.379 Q54.6147 723.421 46.212 723.421 Q37.8093 723.421 32.6531 719.379 Q27.4968 715.305 27.4968 708.843 Q27.4968 704.897 29.0564 702.096 Q30.5842 699.263 33.7671 697.417 M46.212 717.373 Q52.6732 717.373 56.3653 714.732 Q60.0256 712.058 60.0256 707.411 Q60.0256 702.764 56.3653 700.09 Q52.6732 697.417 46.212 697.417 Q39.7508 697.417 36.0905 700.09 Q32.3984 702.764 32.3984 707.411 Q32.3984 712.058 36.0905 714.732 Q39.7508 717.373 46.212 717.373 Z\" fill=\"#000000\" fill-rule=\"nonzero\" fill-opacity=\"1\" /><path clip-path=\"url(#clip140)\" d=\"M18.2347 652.984 L28.3562 652.984 L28.3562 640.921 L32.9077 640.921 L32.9077 652.984 L52.2594 652.984 Q56.6199 652.984 57.8613 651.807 Q59.1026 650.597 59.1026 646.937 L59.1026 640.921 L64.0042 640.921 L64.0042 646.937 Q64.0042 653.716 61.4897 656.294 Q58.9434 658.873 52.2594 658.873 L32.9077 658.873 L32.9077 663.169 L28.3562 663.169 L28.3562 658.873 L18.2347 658.873 L18.2347 652.984 Z\" fill=\"#000000\" fill-rule=\"nonzero\" fill-opacity=\"1\" /><path clip-path=\"url(#clip140)\" d=\"M28.3562 633.219 L28.3562 627.362 L64.0042 627.362 L64.0042 633.219 L28.3562 633.219 M14.479 633.219 L14.479 627.362 L21.895 627.362 L21.895 633.219 L14.479 633.219 Z\" fill=\"#000000\" fill-rule=\"nonzero\" fill-opacity=\"1\" /><path clip-path=\"url(#clip140)\" d=\"M35.1993 587.354 Q31.2526 585.158 29.3747 582.102 Q27.4968 579.047 27.4968 574.909 Q27.4968 569.339 31.4117 566.315 Q35.2948 563.291 42.4881 563.291 L64.0042 563.291 L64.0042 569.18 L42.679 569.18 Q37.5546 569.18 35.072 570.994 Q32.5894 572.808 32.5894 576.532 Q32.5894 581.084 35.6131 583.725 Q38.6368 586.367 43.8567 586.367 L64.0042 586.367 L64.0042 592.255 L42.679 592.255 Q37.5228 592.255 35.072 594.07 Q32.5894 595.884 32.5894 599.671 Q32.5894 604.159 35.6449 606.801 Q38.6686 609.443 43.8567 609.443 L64.0042 609.443 L64.0042 615.331 L28.3562 615.331 L28.3562 609.443 L33.8944 609.443 Q30.616 607.438 29.0564 604.637 Q27.4968 601.836 27.4968 597.985 Q27.4968 594.101 29.4702 591.396 Q31.4436 588.659 35.1993 587.354 Z\" fill=\"#000000\" fill-rule=\"nonzero\" fill-opacity=\"1\" /><path clip-path=\"url(#clip140)\" d=\"M44.7161 521.119 L47.5806 521.119 L47.5806 548.046 Q53.6281 547.664 56.8109 544.417 Q59.9619 541.139 59.9619 535.314 Q59.9619 531.94 59.1344 528.789 Q58.3069 525.606 56.6518 522.487 L62.1899 522.487 Q63.5267 525.638 64.227 528.948 Q64.9272 532.259 64.9272 535.664 Q64.9272 544.194 59.9619 549.191 Q54.9967 554.157 46.5303 554.157 Q37.7774 554.157 32.6531 549.446 Q27.4968 544.704 27.4968 536.683 Q27.4968 529.49 32.1438 525.32 Q36.7589 521.119 44.7161 521.119 M42.9973 526.975 Q38.1912 527.039 35.3266 529.681 Q32.4621 532.29 32.4621 536.619 Q32.4621 541.521 35.2312 544.481 Q38.0002 547.409 43.0292 547.855 L42.9973 526.975 Z\" fill=\"#000000\" fill-rule=\"nonzero\" fill-opacity=\"1\" /><circle clip-path=\"url(#clip142)\" cx=\"310.845\" cy=\"1048.85\" r=\"14.4\" fill=\"#009af9\" fill-rule=\"evenodd\" fill-opacity=\"1\" stroke=\"#000000\" stroke-opacity=\"1\" stroke-width=\"3.2\"/>\n",
       "<circle clip-path=\"url(#clip142)\" cx=\"907.618\" cy=\"858.471\" r=\"14.4\" fill=\"#009af9\" fill-rule=\"evenodd\" fill-opacity=\"1\" stroke=\"#000000\" stroke-opacity=\"1\" stroke-width=\"3.2\"/>\n",
       "<circle clip-path=\"url(#clip142)\" cx=\"1256.71\" cy=\"387.797\" r=\"14.4\" fill=\"#009af9\" fill-rule=\"evenodd\" fill-opacity=\"1\" stroke=\"#000000\" stroke-opacity=\"1\" stroke-width=\"3.2\"/>\n",
       "<circle clip-path=\"url(#clip142)\" cx=\"1504.39\" cy=\"566.996\" r=\"14.4\" fill=\"#009af9\" fill-rule=\"evenodd\" fill-opacity=\"1\" stroke=\"#000000\" stroke-opacity=\"1\" stroke-width=\"3.2\"/>\n",
       "<circle clip-path=\"url(#clip142)\" cx=\"1696.51\" cy=\"439.136\" r=\"14.4\" fill=\"#009af9\" fill-rule=\"evenodd\" fill-opacity=\"1\" stroke=\"#000000\" stroke-opacity=\"1\" stroke-width=\"3.2\"/>\n",
       "<circle clip-path=\"url(#clip142)\" cx=\"1853.48\" cy=\"354.776\" r=\"14.4\" fill=\"#009af9\" fill-rule=\"evenodd\" fill-opacity=\"1\" stroke=\"#000000\" stroke-opacity=\"1\" stroke-width=\"3.2\"/>\n",
       "<circle clip-path=\"url(#clip142)\" cx=\"1986.2\" cy=\"266.392\" r=\"14.4\" fill=\"#009af9\" fill-rule=\"evenodd\" fill-opacity=\"1\" stroke=\"#000000\" stroke-opacity=\"1\" stroke-width=\"3.2\"/>\n",
       "<circle clip-path=\"url(#clip142)\" cx=\"2101.16\" cy=\"209.839\" r=\"14.4\" fill=\"#009af9\" fill-rule=\"evenodd\" fill-opacity=\"1\" stroke=\"#000000\" stroke-opacity=\"1\" stroke-width=\"3.2\"/>\n",
       "<circle clip-path=\"url(#clip142)\" cx=\"2202.57\" cy=\"145.523\" r=\"14.4\" fill=\"#009af9\" fill-rule=\"evenodd\" fill-opacity=\"1\" stroke=\"#000000\" stroke-opacity=\"1\" stroke-width=\"3.2\"/>\n",
       "<circle clip-path=\"url(#clip142)\" cx=\"2293.28\" cy=\"85.838\" r=\"14.4\" fill=\"#009af9\" fill-rule=\"evenodd\" fill-opacity=\"1\" stroke=\"#000000\" stroke-opacity=\"1\" stroke-width=\"3.2\"/>\n",
       "<polyline clip-path=\"url(#clip142)\" style=\"stroke:#e26f46; stroke-linecap:round; stroke-linejoin:round; stroke-width:4; stroke-opacity:1; fill:none\" stroke-dasharray=\"16, 10\" points=\"310.845,1372.3 907.618,985.038 1256.71,758.503 1504.39,597.774 1696.51,473.102 1853.48,371.239 1986.2,285.114 2101.16,210.509 2202.57,144.703 2293.28,85.838 \"/>\n",
       "<path clip-path=\"url(#clip140)\" d=\"M321.418 248.219 L699.056 248.219 L699.056 92.6992 L321.418 92.6992  Z\" fill=\"#ffffff\" fill-rule=\"evenodd\" fill-opacity=\"1\"/>\n",
       "<polyline clip-path=\"url(#clip140)\" style=\"stroke:#000000; stroke-linecap:round; stroke-linejoin:round; stroke-width:4; stroke-opacity:1; fill:none\" points=\"321.418,248.219 699.056,248.219 699.056,92.6992 321.418,92.6992 321.418,248.219 \"/>\n",
       "<circle clip-path=\"url(#clip140)\" cx=\"414.813\" cy=\"144.539\" r=\"20.48\" fill=\"#009af9\" fill-rule=\"evenodd\" fill-opacity=\"1\" stroke=\"#000000\" stroke-opacity=\"1\" stroke-width=\"4.55111\"/>\n",
       "<path clip-path=\"url(#clip140)\" d=\"M527.12 139.829 L527.12 125.801 L531.379 125.801 L531.379 161.819 L527.12 161.819 L527.12 157.93 Q525.777 160.245 523.717 161.379 Q521.68 162.49 518.81 162.49 Q514.111 162.49 511.148 158.74 Q508.208 154.991 508.208 148.879 Q508.208 142.768 511.148 139.018 Q514.111 135.268 518.81 135.268 Q521.68 135.268 523.717 136.403 Q525.777 137.514 527.12 139.829 M512.606 148.879 Q512.606 153.578 514.527 156.264 Q516.472 158.926 519.851 158.926 Q523.231 158.926 525.175 156.264 Q527.12 153.578 527.12 148.879 Q527.12 144.18 525.175 141.518 Q523.231 138.833 519.851 138.833 Q516.472 138.833 514.527 141.518 Q512.606 144.18 512.606 148.879 Z\" fill=\"#000000\" fill-rule=\"nonzero\" fill-opacity=\"1\" /><path clip-path=\"url(#clip140)\" d=\"M551.935 148.787 Q546.773 148.787 544.782 149.967 Q542.791 151.148 542.791 153.995 Q542.791 156.264 544.273 157.606 Q545.777 158.926 548.347 158.926 Q551.888 158.926 554.018 156.426 Q556.171 153.903 556.171 149.736 L556.171 148.787 L551.935 148.787 M560.43 147.028 L560.43 161.819 L556.171 161.819 L556.171 157.884 Q554.712 160.245 552.536 161.379 Q550.361 162.49 547.212 162.49 Q543.231 162.49 540.87 160.268 Q538.532 158.023 538.532 154.273 Q538.532 149.898 541.449 147.676 Q544.388 145.454 550.198 145.454 L556.171 145.454 L556.171 145.037 Q556.171 142.097 554.226 140.5 Q552.305 138.879 548.81 138.879 Q546.587 138.879 544.481 139.412 Q542.374 139.944 540.43 141.009 L540.43 137.074 Q542.768 136.171 544.967 135.731 Q547.166 135.268 549.249 135.268 Q554.874 135.268 557.652 138.185 Q560.43 141.102 560.43 147.028 Z\" fill=\"#000000\" fill-rule=\"nonzero\" fill-opacity=\"1\" /><path clip-path=\"url(#clip140)\" d=\"M573.416 128.532 L573.416 135.893 L582.189 135.893 L582.189 139.204 L573.416 139.204 L573.416 153.278 Q573.416 156.449 574.272 157.352 Q575.152 158.254 577.814 158.254 L582.189 158.254 L582.189 161.819 L577.814 161.819 Q572.884 161.819 571.009 159.99 Q569.134 158.139 569.134 153.278 L569.134 139.204 L566.009 139.204 L566.009 135.893 L569.134 135.893 L569.134 128.532 L573.416 128.532 Z\" fill=\"#000000\" fill-rule=\"nonzero\" fill-opacity=\"1\" /><path clip-path=\"url(#clip140)\" d=\"M599.573 148.787 Q594.411 148.787 592.42 149.967 Q590.43 151.148 590.43 153.995 Q590.43 156.264 591.911 157.606 Q593.416 158.926 595.985 158.926 Q599.527 158.926 601.657 156.426 Q603.809 153.903 603.809 149.736 L603.809 148.787 L599.573 148.787 M608.069 147.028 L608.069 161.819 L603.809 161.819 L603.809 157.884 Q602.351 160.245 600.175 161.379 Q597.999 162.49 594.851 162.49 Q590.87 162.49 588.508 160.268 Q586.171 158.023 586.171 154.273 Q586.171 149.898 589.087 147.676 Q592.027 145.454 597.837 145.454 L603.809 145.454 L603.809 145.037 Q603.809 142.097 601.865 140.5 Q599.944 138.879 596.448 138.879 Q594.226 138.879 592.12 139.412 Q590.013 139.944 588.069 141.009 L588.069 137.074 Q590.407 136.171 592.606 135.731 Q594.805 135.268 596.888 135.268 Q602.513 135.268 605.291 138.185 Q608.069 141.102 608.069 147.028 Z\" fill=\"#000000\" fill-rule=\"nonzero\" fill-opacity=\"1\" /><polyline clip-path=\"url(#clip140)\" style=\"stroke:#e26f46; stroke-linecap:round; stroke-linejoin:round; stroke-width:4; stroke-opacity:1; fill:none\" stroke-dasharray=\"16, 10\" points=\"344.767,196.379 484.859,196.379 \"/>\n",
       "<path clip-path=\"url(#clip140)\" d=\"M524.226 182.27 Q519.134 182.27 516.125 186.067 Q513.138 189.863 513.138 196.414 Q513.138 202.942 516.125 206.738 Q519.134 210.534 524.226 210.534 Q529.319 210.534 532.282 206.738 Q535.268 202.942 535.268 196.414 Q535.268 189.863 532.282 186.067 Q529.319 182.27 524.226 182.27 M524.226 178.474 Q531.495 178.474 535.847 183.358 Q540.199 188.22 540.199 196.414 Q540.199 204.585 535.847 209.469 Q531.495 214.33 524.226 214.33 Q516.935 214.33 512.56 209.469 Q508.208 204.608 508.208 196.414 Q508.208 188.22 512.56 183.358 Q516.935 178.474 524.226 178.474 Z\" fill=\"#000000\" fill-rule=\"nonzero\" fill-opacity=\"1\" /><path clip-path=\"url(#clip140)\" d=\"M557.56 177.687 Q554.458 183.011 552.953 188.22 Q551.448 193.428 551.448 198.775 Q551.448 204.122 552.953 209.377 Q554.481 214.608 557.56 219.909 L553.856 219.909 Q550.384 214.469 548.648 209.215 Q546.935 203.96 546.935 198.775 Q546.935 193.613 548.648 188.382 Q550.361 183.15 553.856 177.687 L557.56 177.687 Z\" fill=\"#000000\" fill-rule=\"nonzero\" fill-opacity=\"1\" /><path clip-path=\"url(#clip140)\" d=\"M587.374 198.011 L587.374 213.659 L583.115 213.659 L583.115 198.15 Q583.115 194.469 581.68 192.641 Q580.245 190.812 577.374 190.812 Q573.925 190.812 571.934 193.011 Q569.944 195.21 569.944 199.006 L569.944 213.659 L565.661 213.659 L565.661 187.733 L569.944 187.733 L569.944 191.761 Q571.472 189.423 573.532 188.266 Q575.615 187.108 578.323 187.108 Q582.791 187.108 585.083 189.886 Q587.374 192.641 587.374 198.011 Z\" fill=\"#000000\" fill-rule=\"nonzero\" fill-opacity=\"1\" /><path clip-path=\"url(#clip140)\" d=\"M613.531 179.099 L626.101 191.993 L621.448 191.993 L611.263 182.849 L601.078 191.993 L596.425 191.993 L608.994 179.099 L613.531 179.099 Z\" fill=\"#000000\" fill-rule=\"nonzero\" fill-opacity=\"1\" /><path clip-path=\"url(#clip140)\" d=\"M650.36 195.025 Q653.716 195.743 655.591 198.011 Q657.49 200.28 657.49 203.613 Q657.49 208.729 653.971 211.53 Q650.453 214.33 643.971 214.33 Q641.795 214.33 639.48 213.891 Q637.189 213.474 634.735 212.618 L634.735 208.104 Q636.679 209.238 638.994 209.817 Q641.309 210.395 643.832 210.395 Q648.23 210.395 650.522 208.659 Q652.837 206.923 652.837 203.613 Q652.837 200.557 650.684 198.844 Q648.554 197.108 644.735 197.108 L640.707 197.108 L640.707 193.266 L644.92 193.266 Q648.369 193.266 650.198 191.9 Q652.027 190.511 652.027 187.919 Q652.027 185.257 650.128 183.845 Q648.254 182.409 644.735 182.409 Q642.814 182.409 640.615 182.826 Q638.416 183.243 635.777 184.122 L635.777 179.956 Q638.439 179.215 640.754 178.845 Q643.091 178.474 645.152 178.474 Q650.476 178.474 653.578 180.905 Q656.679 183.312 656.679 187.432 Q656.679 190.303 655.036 192.294 Q653.392 194.261 650.36 195.025 Z\" fill=\"#000000\" fill-rule=\"nonzero\" fill-opacity=\"1\" /><path clip-path=\"url(#clip140)\" d=\"M665.082 177.687 L668.786 177.687 Q672.258 183.15 673.971 188.382 Q675.707 193.613 675.707 198.775 Q675.707 203.96 673.971 209.215 Q672.258 214.469 668.786 219.909 L665.082 219.909 Q668.161 214.608 669.665 209.377 Q671.193 204.122 671.193 198.775 Q671.193 193.428 669.665 188.22 Q668.161 183.011 665.082 177.687 Z\" fill=\"#000000\" fill-rule=\"nonzero\" fill-opacity=\"1\" /></svg>\n"
      ],
      "text/html": [
       "<?xml version=\"1.0\" encoding=\"utf-8\"?>\n",
       "<svg xmlns=\"http://www.w3.org/2000/svg\" xmlns:xlink=\"http://www.w3.org/1999/xlink\" width=\"600\" height=\"400\" viewBox=\"0 0 2400 1600\">\n",
       "<defs>\n",
       "  <clipPath id=\"clip190\">\n",
       "    <rect x=\"0\" y=\"0\" width=\"2400\" height=\"1600\"/>\n",
       "  </clipPath>\n",
       "</defs>\n",
       "<path clip-path=\"url(#clip190)\" d=\"M0 1600 L2400 1600 L2400 0 L0 0  Z\" fill=\"#ffffff\" fill-rule=\"evenodd\" fill-opacity=\"1\"/>\n",
       "<defs>\n",
       "  <clipPath id=\"clip191\">\n",
       "    <rect x=\"480\" y=\"0\" width=\"1681\" height=\"1600\"/>\n",
       "  </clipPath>\n",
       "</defs>\n",
       "<path clip-path=\"url(#clip190)\" d=\"M251.372 1410.9 L2352.76 1410.9 L2352.76 47.2441 L251.372 47.2441  Z\" fill=\"#ffffff\" fill-rule=\"evenodd\" fill-opacity=\"1\"/>\n",
       "<defs>\n",
       "  <clipPath id=\"clip192\">\n",
       "    <rect x=\"251\" y=\"47\" width=\"2102\" height=\"1365\"/>\n",
       "  </clipPath>\n",
       "</defs>\n",
       "<polyline clip-path=\"url(#clip192)\" style=\"stroke:#000000; stroke-linecap:round; stroke-linejoin:round; stroke-width:2; stroke-opacity:0.1; fill:none\" points=\"1099.74,1410.9 1099.74,47.2441 \"/>\n",
       "<polyline clip-path=\"url(#clip192)\" style=\"stroke:#000000; stroke-linecap:round; stroke-linejoin:round; stroke-width:2; stroke-opacity:0.1; fill:none\" points=\"2090.96,1410.9 2090.96,47.2441 \"/>\n",
       "<polyline clip-path=\"url(#clip192)\" style=\"stroke:#000000; stroke-linecap:round; stroke-linejoin:round; stroke-width:2; stroke-opacity:0.1; fill:none\" points=\"251.372,1168.82 2352.76,1168.82 \"/>\n",
       "<polyline clip-path=\"url(#clip192)\" style=\"stroke:#000000; stroke-linecap:round; stroke-linejoin:round; stroke-width:2; stroke-opacity:0.1; fill:none\" points=\"251.372,739.996 2352.76,739.996 \"/>\n",
       "<polyline clip-path=\"url(#clip192)\" style=\"stroke:#000000; stroke-linecap:round; stroke-linejoin:round; stroke-width:2; stroke-opacity:0.1; fill:none\" points=\"251.372,311.174 2352.76,311.174 \"/>\n",
       "<polyline clip-path=\"url(#clip190)\" style=\"stroke:#000000; stroke-linecap:round; stroke-linejoin:round; stroke-width:4; stroke-opacity:1; fill:none\" points=\"251.372,1410.9 2352.76,1410.9 \"/>\n",
       "<polyline clip-path=\"url(#clip190)\" style=\"stroke:#000000; stroke-linecap:round; stroke-linejoin:round; stroke-width:4; stroke-opacity:1; fill:none\" points=\"1099.74,1410.9 1099.74,1392 \"/>\n",
       "<polyline clip-path=\"url(#clip190)\" style=\"stroke:#000000; stroke-linecap:round; stroke-linejoin:round; stroke-width:4; stroke-opacity:1; fill:none\" points=\"2090.96,1410.9 2090.96,1392 \"/>\n",
       "<path clip-path=\"url(#clip190)\" d=\"M1046.54 1485.02 L1054.18 1485.02 L1054.18 1458.66 L1045.87 1460.32 L1045.87 1456.06 L1054.13 1454.4 L1058.81 1454.4 L1058.81 1485.02 L1066.45 1485.02 L1066.45 1488.96 L1046.54 1488.96 L1046.54 1485.02 Z\" fill=\"#000000\" fill-rule=\"nonzero\" fill-opacity=\"1\" /><path clip-path=\"url(#clip190)\" d=\"M1085.89 1457.48 Q1082.28 1457.48 1080.45 1461.04 Q1078.65 1464.58 1078.65 1471.71 Q1078.65 1478.82 1080.45 1482.38 Q1082.28 1485.92 1085.89 1485.92 Q1089.53 1485.92 1091.33 1482.38 Q1093.16 1478.82 1093.16 1471.71 Q1093.16 1464.58 1091.33 1461.04 Q1089.53 1457.48 1085.89 1457.48 M1085.89 1453.77 Q1091.7 1453.77 1094.76 1458.38 Q1097.84 1462.96 1097.84 1471.71 Q1097.84 1480.44 1094.76 1485.04 Q1091.7 1489.63 1085.89 1489.63 Q1080.08 1489.63 1077 1485.04 Q1073.95 1480.44 1073.95 1471.71 Q1073.95 1462.96 1077 1458.38 Q1080.08 1453.77 1085.89 1453.77 Z\" fill=\"#000000\" fill-rule=\"nonzero\" fill-opacity=\"1\" /><path clip-path=\"url(#clip190)\" d=\"M1110.53 1446.41 Q1113.26 1446.99 1114.78 1448.83 Q1116.33 1450.68 1116.33 1453.38 Q1116.33 1457.54 1113.47 1459.82 Q1110.61 1462.09 1105.34 1462.09 Q1103.57 1462.09 1101.69 1461.73 Q1099.83 1461.4 1097.84 1460.7 L1097.84 1457.03 Q1099.42 1457.95 1101.3 1458.42 Q1103.18 1458.89 1105.23 1458.89 Q1108.8 1458.89 1110.66 1457.48 Q1112.55 1456.07 1112.55 1453.38 Q1112.55 1450.9 1110.8 1449.51 Q1109.07 1448.1 1105.96 1448.1 L1102.69 1448.1 L1102.69 1444.98 L1106.11 1444.98 Q1108.92 1444.98 1110.4 1443.87 Q1111.89 1442.74 1111.89 1440.63 Q1111.89 1438.47 1110.34 1437.32 Q1108.82 1436.16 1105.96 1436.16 Q1104.4 1436.16 1102.61 1436.49 Q1100.83 1436.83 1098.68 1437.55 L1098.68 1434.16 Q1100.85 1433.56 1102.73 1433.26 Q1104.63 1432.96 1106.3 1432.96 Q1110.63 1432.96 1113.15 1434.93 Q1115.67 1436.89 1115.67 1440.24 Q1115.67 1442.57 1114.33 1444.19 Q1113 1445.79 1110.53 1446.41 Z\" fill=\"#000000\" fill-rule=\"nonzero\" fill-opacity=\"1\" /><path clip-path=\"url(#clip190)\" d=\"M1123.53 1456.77 L1127.5 1456.77 L1127.5 1461.55 L1123.53 1461.55 L1123.53 1456.77 Z\" fill=\"#000000\" fill-rule=\"nonzero\" fill-opacity=\"1\" /><path clip-path=\"url(#clip190)\" d=\"M1143.9 1435.97 Q1140.96 1435.97 1139.48 1438.86 Q1138.01 1441.74 1138.01 1447.53 Q1138.01 1453.31 1139.48 1456.2 Q1140.96 1459.08 1143.9 1459.08 Q1146.85 1459.08 1148.32 1456.2 Q1149.8 1453.31 1149.8 1447.53 Q1149.8 1441.74 1148.32 1438.86 Q1146.85 1435.97 1143.9 1435.97 M1143.9 1432.96 Q1148.62 1432.96 1151.1 1436.7 Q1153.6 1440.43 1153.6 1447.53 Q1153.6 1454.62 1151.1 1458.37 Q1148.62 1462.09 1143.9 1462.09 Q1139.18 1462.09 1136.68 1458.37 Q1134.19 1454.62 1134.19 1447.53 Q1134.19 1440.43 1136.68 1436.7 Q1139.18 1432.96 1143.9 1432.96 Z\" fill=\"#000000\" fill-rule=\"nonzero\" fill-opacity=\"1\" /><path clip-path=\"url(#clip190)\" d=\"M2038.16 1485.02 L2045.8 1485.02 L2045.8 1458.66 L2037.49 1460.32 L2037.49 1456.06 L2045.76 1454.4 L2050.43 1454.4 L2050.43 1485.02 L2058.07 1485.02 L2058.07 1488.96 L2038.16 1488.96 L2038.16 1485.02 Z\" fill=\"#000000\" fill-rule=\"nonzero\" fill-opacity=\"1\" /><path clip-path=\"url(#clip190)\" d=\"M2077.52 1457.48 Q2073.91 1457.48 2072.08 1461.04 Q2070.27 1464.58 2070.27 1471.71 Q2070.27 1478.82 2072.08 1482.38 Q2073.91 1485.92 2077.52 1485.92 Q2081.15 1485.92 2082.96 1482.38 Q2084.78 1478.82 2084.78 1471.71 Q2084.78 1464.58 2082.96 1461.04 Q2081.15 1457.48 2077.52 1457.48 M2077.52 1453.77 Q2083.33 1453.77 2086.38 1458.38 Q2089.46 1462.96 2089.46 1471.71 Q2089.46 1480.44 2086.38 1485.04 Q2083.33 1489.63 2077.52 1489.63 Q2071.71 1489.63 2068.63 1485.04 Q2065.57 1480.44 2065.57 1471.71 Q2065.57 1462.96 2068.63 1458.38 Q2071.71 1453.77 2077.52 1453.77 Z\" fill=\"#000000\" fill-rule=\"nonzero\" fill-opacity=\"1\" /><path clip-path=\"url(#clip190)\" d=\"M2102.16 1446.41 Q2104.88 1446.99 2106.41 1448.83 Q2107.95 1450.68 2107.95 1453.38 Q2107.95 1457.54 2105.09 1459.82 Q2102.23 1462.09 2096.97 1462.09 Q2095.2 1462.09 2093.32 1461.73 Q2091.45 1461.4 2089.46 1460.7 L2089.46 1457.03 Q2091.04 1457.95 2092.92 1458.42 Q2094.8 1458.89 2096.85 1458.89 Q2100.43 1458.89 2102.29 1457.48 Q2104.17 1456.07 2104.17 1453.38 Q2104.17 1450.9 2102.42 1449.51 Q2100.69 1448.1 2097.59 1448.1 L2094.31 1448.1 L2094.31 1444.98 L2097.74 1444.98 Q2100.54 1444.98 2102.02 1443.87 Q2103.51 1442.74 2103.51 1440.63 Q2103.51 1438.47 2101.97 1437.32 Q2100.44 1436.16 2097.59 1436.16 Q2096.02 1436.16 2094.24 1436.49 Q2092.45 1436.83 2090.31 1437.55 L2090.31 1434.16 Q2092.47 1433.56 2094.35 1433.26 Q2096.25 1432.96 2097.92 1432.96 Q2102.25 1432.96 2104.77 1434.93 Q2107.29 1436.89 2107.29 1440.24 Q2107.29 1442.57 2105.96 1444.19 Q2104.62 1445.79 2102.16 1446.41 Z\" fill=\"#000000\" fill-rule=\"nonzero\" fill-opacity=\"1\" /><path clip-path=\"url(#clip190)\" d=\"M2115.15 1456.77 L2119.12 1456.77 L2119.12 1461.55 L2115.15 1461.55 L2115.15 1456.77 Z\" fill=\"#000000\" fill-rule=\"nonzero\" fill-opacity=\"1\" /><path clip-path=\"url(#clip190)\" d=\"M2127.43 1433.47 L2142.35 1433.47 L2142.35 1436.66 L2130.91 1436.66 L2130.91 1443.55 Q2131.74 1443.27 2132.57 1443.13 Q2133.4 1442.98 2134.22 1442.98 Q2138.93 1442.98 2141.67 1445.56 Q2144.42 1448.14 2144.42 1452.54 Q2144.42 1457.07 2141.6 1459.59 Q2138.77 1462.09 2133.64 1462.09 Q2131.87 1462.09 2130.03 1461.79 Q2128.2 1461.49 2126.25 1460.89 L2126.25 1457.07 Q2127.94 1457.99 2129.75 1458.44 Q2131.55 1458.89 2133.56 1458.89 Q2136.82 1458.89 2138.72 1457.18 Q2140.62 1455.47 2140.62 1452.54 Q2140.62 1449.6 2138.72 1447.89 Q2136.82 1446.18 2133.56 1446.18 Q2132.04 1446.18 2130.52 1446.52 Q2129.01 1446.86 2127.43 1447.57 L2127.43 1433.47 Z\" fill=\"#000000\" fill-rule=\"nonzero\" fill-opacity=\"1\" /><path clip-path=\"url(#clip190)\" d=\"M1316.99 1552.67 L1316.99 1574.19 L1311.14 1574.19 L1311.14 1552.86 Q1311.14 1547.8 1309.16 1545.29 Q1307.19 1542.77 1303.24 1542.77 Q1298.5 1542.77 1295.76 1545.79 Q1293.02 1548.82 1293.02 1554.04 L1293.02 1574.19 L1287.14 1574.19 L1287.14 1538.54 L1293.02 1538.54 L1293.02 1544.08 Q1295.13 1540.86 1297.96 1539.27 Q1300.82 1537.68 1304.55 1537.68 Q1310.69 1537.68 1313.84 1541.5 Q1316.99 1545.29 1316.99 1552.67 Z\" fill=\"#000000\" fill-rule=\"nonzero\" fill-opacity=\"1\" /><polyline clip-path=\"url(#clip190)\" style=\"stroke:#000000; stroke-linecap:round; stroke-linejoin:round; stroke-width:4; stroke-opacity:1; fill:none\" points=\"251.372,1410.9 251.372,47.2441 \"/>\n",
       "<polyline clip-path=\"url(#clip190)\" style=\"stroke:#000000; stroke-linecap:round; stroke-linejoin:round; stroke-width:4; stroke-opacity:1; fill:none\" points=\"251.372,1168.82 270.27,1168.82 \"/>\n",
       "<polyline clip-path=\"url(#clip190)\" style=\"stroke:#000000; stroke-linecap:round; stroke-linejoin:round; stroke-width:4; stroke-opacity:1; fill:none\" points=\"251.372,739.996 270.27,739.996 \"/>\n",
       "<polyline clip-path=\"url(#clip190)\" style=\"stroke:#000000; stroke-linecap:round; stroke-linejoin:round; stroke-width:4; stroke-opacity:1; fill:none\" points=\"251.372,311.174 270.27,311.174 \"/>\n",
       "<path clip-path=\"url(#clip190)\" d=\"M115.232 1188.61 L122.871 1188.61 L122.871 1162.24 L114.561 1163.91 L114.561 1159.65 L122.825 1157.98 L127.501 1157.98 L127.501 1188.61 L135.14 1188.61 L135.14 1192.54 L115.232 1192.54 L115.232 1188.61 Z\" fill=\"#000000\" fill-rule=\"nonzero\" fill-opacity=\"1\" /><path clip-path=\"url(#clip190)\" d=\"M154.584 1161.06 Q150.973 1161.06 149.144 1164.63 Q147.339 1168.17 147.339 1175.3 Q147.339 1182.41 149.144 1185.97 Q150.973 1189.51 154.584 1189.51 Q158.218 1189.51 160.024 1185.97 Q161.852 1182.41 161.852 1175.3 Q161.852 1168.17 160.024 1164.63 Q158.218 1161.06 154.584 1161.06 M154.584 1157.36 Q160.394 1157.36 163.45 1161.97 Q166.528 1166.55 166.528 1175.3 Q166.528 1184.03 163.45 1188.63 Q160.394 1193.22 154.584 1193.22 Q148.774 1193.22 145.695 1188.63 Q142.64 1184.03 142.64 1175.3 Q142.64 1166.55 145.695 1161.97 Q148.774 1157.36 154.584 1157.36 Z\" fill=\"#000000\" fill-rule=\"nonzero\" fill-opacity=\"1\" /><path clip-path=\"url(#clip190)\" d=\"M166.528 1151.46 L190.64 1151.46 L190.64 1154.66 L166.528 1154.66 L166.528 1151.46 Z\" fill=\"#000000\" fill-rule=\"nonzero\" fill-opacity=\"1\" /><path clip-path=\"url(#clip190)\" d=\"M202.113 1161.94 L215.372 1161.94 L215.372 1165.13 L197.542 1165.13 L197.542 1161.94 Q199.705 1159.7 203.429 1155.94 Q207.172 1152.16 208.131 1151.07 Q209.956 1149.02 210.67 1147.61 Q211.404 1146.18 211.404 1144.8 Q211.404 1142.57 209.824 1141.15 Q208.263 1139.74 205.743 1139.74 Q203.956 1139.74 201.962 1140.36 Q199.987 1140.99 197.73 1142.25 L197.73 1138.41 Q200.025 1137.49 202.019 1137.02 Q204.012 1136.55 205.667 1136.55 Q210.031 1136.55 212.626 1138.73 Q215.222 1140.91 215.222 1144.56 Q215.222 1146.29 214.563 1147.85 Q213.924 1149.39 212.212 1151.5 Q211.742 1152.04 209.222 1154.66 Q206.702 1157.25 202.113 1161.94 Z\" fill=\"#000000\" fill-rule=\"nonzero\" fill-opacity=\"1\" /><path clip-path=\"url(#clip190)\" d=\"M114.931 759.788 L122.57 759.788 L122.57 733.422 L114.26 735.089 L114.26 730.83 L122.524 729.163 L127.2 729.163 L127.2 759.788 L134.839 759.788 L134.839 763.723 L114.931 763.723 L114.931 759.788 Z\" fill=\"#000000\" fill-rule=\"nonzero\" fill-opacity=\"1\" /><path clip-path=\"url(#clip190)\" d=\"M154.283 732.242 Q150.672 732.242 148.843 735.807 Q147.038 739.348 147.038 746.478 Q147.038 753.584 148.843 757.149 Q150.672 760.691 154.283 760.691 Q157.917 760.691 159.723 757.149 Q161.552 753.584 161.552 746.478 Q161.552 739.348 159.723 735.807 Q157.917 732.242 154.283 732.242 M154.283 728.538 Q160.093 728.538 163.149 733.145 Q166.227 737.728 166.227 746.478 Q166.227 755.205 163.149 759.811 Q160.093 764.395 154.283 764.395 Q148.473 764.395 145.394 759.811 Q142.339 755.205 142.339 746.478 Q142.339 737.728 145.394 733.145 Q148.473 728.538 154.283 728.538 Z\" fill=\"#000000\" fill-rule=\"nonzero\" fill-opacity=\"1\" /><path clip-path=\"url(#clip190)\" d=\"M166.227 722.64 L190.339 722.64 L190.339 725.837 L166.227 725.837 L166.227 722.64 Z\" fill=\"#000000\" fill-rule=\"nonzero\" fill-opacity=\"1\" /><path clip-path=\"url(#clip190)\" d=\"M199.197 733.116 L205.404 733.116 L205.404 711.693 L198.652 713.048 L198.652 709.587 L205.366 708.233 L209.166 708.233 L209.166 733.116 L215.372 733.116 L215.372 736.313 L199.197 736.313 L199.197 733.116 Z\" fill=\"#000000\" fill-rule=\"nonzero\" fill-opacity=\"1\" /><path clip-path=\"url(#clip190)\" d=\"M144.667 330.967 L152.305 330.967 L152.305 304.601 L143.995 306.268 L143.995 302.008 L152.259 300.342 L156.935 300.342 L156.935 330.967 L164.574 330.967 L164.574 334.902 L144.667 334.902 L144.667 330.967 Z\" fill=\"#000000\" fill-rule=\"nonzero\" fill-opacity=\"1\" /><path clip-path=\"url(#clip190)\" d=\"M184.018 303.42 Q180.407 303.42 178.578 306.985 Q176.773 310.527 176.773 317.656 Q176.773 324.763 178.578 328.328 Q180.407 331.869 184.018 331.869 Q187.652 331.869 189.458 328.328 Q191.287 324.763 191.287 317.656 Q191.287 310.527 189.458 306.985 Q187.652 303.42 184.018 303.42 M184.018 299.717 Q189.828 299.717 192.884 304.323 Q195.963 308.906 195.963 317.656 Q195.963 326.383 192.884 330.99 Q189.828 335.573 184.018 335.573 Q178.208 335.573 175.129 330.99 Q172.074 326.383 172.074 317.656 Q172.074 308.906 175.129 304.323 Q178.208 299.717 184.018 299.717 Z\" fill=\"#000000\" fill-rule=\"nonzero\" fill-opacity=\"1\" /><path clip-path=\"url(#clip190)\" d=\"M205.667 281.913 Q202.733 281.913 201.248 284.809 Q199.781 287.687 199.781 293.48 Q199.781 299.253 201.248 302.15 Q202.733 305.027 205.667 305.027 Q208.62 305.027 210.087 302.15 Q211.573 299.253 211.573 293.48 Q211.573 287.687 210.087 284.809 Q208.62 281.913 205.667 281.913 M205.667 278.903 Q210.388 278.903 212.871 282.646 Q215.372 286.37 215.372 293.48 Q215.372 300.57 212.871 304.313 Q210.388 308.037 205.667 308.037 Q200.947 308.037 198.445 304.313 Q195.963 300.57 195.963 293.48 Q195.963 286.37 198.445 282.646 Q200.947 278.903 205.667 278.903 Z\" fill=\"#000000\" fill-rule=\"nonzero\" fill-opacity=\"1\" /><path clip-path=\"url(#clip190)\" d=\"M44.7161 903.984 L47.5806 903.984 L47.5806 930.911 Q53.6281 930.529 56.8109 927.283 Q59.9619 924.004 59.9619 918.18 Q59.9619 914.806 59.1344 911.655 Q58.3069 908.472 56.6518 905.353 L62.1899 905.353 Q63.5267 908.504 64.227 911.814 Q64.9272 915.124 64.9272 918.53 Q64.9272 927.06 59.9619 932.057 Q54.9967 937.022 46.5303 937.022 Q37.7774 937.022 32.6531 932.311 Q27.4968 927.569 27.4968 919.548 Q27.4968 912.355 32.1438 908.185 Q36.7589 903.984 44.7161 903.984 M42.9973 909.841 Q38.1912 909.904 35.3266 912.546 Q32.4621 915.156 32.4621 919.485 Q32.4621 924.386 35.2312 927.346 Q38.0002 930.274 43.0292 930.72 L42.9973 909.841 Z\" fill=\"#000000\" fill-rule=\"nonzero\" fill-opacity=\"1\" /><path clip-path=\"url(#clip190)\" d=\"M14.479 894.372 L14.479 888.515 L64.0042 888.515 L64.0042 894.372 L14.479 894.372 Z\" fill=\"#000000\" fill-rule=\"nonzero\" fill-opacity=\"1\" /><path clip-path=\"url(#clip190)\" d=\"M46.0847 860.061 Q46.0847 867.158 47.7079 869.896 Q49.3312 872.633 53.2461 872.633 Q56.3653 872.633 58.2114 870.596 Q60.0256 868.527 60.0256 864.994 Q60.0256 860.124 56.5881 857.196 Q53.1188 854.236 47.3897 854.236 L46.0847 854.236 L46.0847 860.061 M43.6657 848.38 L64.0042 848.38 L64.0042 854.236 L58.5933 854.236 Q61.8398 856.241 63.3994 859.233 Q64.9272 862.225 64.9272 866.554 Q64.9272 872.028 61.8716 875.275 Q58.7843 878.489 53.6281 878.489 Q47.6125 878.489 44.5569 874.479 Q41.5014 870.437 41.5014 862.448 L41.5014 854.236 L40.9285 854.236 Q36.8862 854.236 34.6901 856.91 Q32.4621 859.551 32.4621 864.358 Q32.4621 867.413 33.1941 870.309 Q33.9262 873.206 35.3903 875.879 L29.9795 875.879 Q28.7381 872.665 28.1334 869.641 Q27.4968 866.617 27.4968 863.753 Q27.4968 856.018 31.5072 852.199 Q35.5176 848.38 43.6657 848.38 Z\" fill=\"#000000\" fill-rule=\"nonzero\" fill-opacity=\"1\" /><path clip-path=\"url(#clip190)\" d=\"M58.657 830.651 L77.5631 830.651 L77.5631 836.539 L28.3562 836.539 L28.3562 830.651 L33.7671 830.651 Q30.5842 828.805 29.0564 826.004 Q27.4968 823.171 27.4968 819.257 Q27.4968 812.763 32.6531 808.721 Q37.8093 804.647 46.212 804.647 Q54.6147 804.647 59.771 808.721 Q64.9272 812.763 64.9272 819.257 Q64.9272 823.171 63.3994 826.004 Q61.8398 828.805 58.657 830.651 M46.212 810.726 Q39.7508 810.726 36.0905 813.4 Q32.3984 816.042 32.3984 820.689 Q32.3984 825.336 36.0905 828.009 Q39.7508 830.651 46.212 830.651 Q52.6732 830.651 56.3653 828.009 Q60.0256 825.336 60.0256 820.689 Q60.0256 816.042 56.3653 813.4 Q52.6732 810.726 46.212 810.726 Z\" fill=\"#000000\" fill-rule=\"nonzero\" fill-opacity=\"1\" /><path clip-path=\"url(#clip190)\" d=\"M29.4065 772.214 L34.9447 772.214 Q33.6716 774.697 33.035 777.37 Q32.3984 780.044 32.3984 782.908 Q32.3984 787.269 33.7352 789.465 Q35.072 791.629 37.7456 791.629 Q39.7826 791.629 40.9603 790.07 Q42.1061 788.51 43.1565 783.8 L43.6021 781.794 Q44.9389 775.556 47.3897 772.946 Q49.8086 770.304 54.1691 770.304 Q59.1344 770.304 62.0308 774.251 Q64.9272 778.166 64.9272 785.041 Q64.9272 787.905 64.3543 791.025 Q63.8132 794.112 62.6992 797.549 L56.6518 797.549 Q58.3387 794.303 59.198 791.152 Q60.0256 788.001 60.0256 784.914 Q60.0256 780.776 58.6251 778.548 Q57.1929 776.32 54.6147 776.32 Q52.2276 776.32 50.9545 777.943 Q49.6813 779.535 48.5037 784.977 L48.0262 787.014 Q46.8804 792.457 44.5251 794.876 Q42.138 797.295 38.0002 797.295 Q32.9713 797.295 30.2341 793.73 Q27.4968 790.165 27.4968 783.609 Q27.4968 780.362 27.9743 777.497 Q28.4517 774.633 29.4065 772.214 Z\" fill=\"#000000\" fill-rule=\"nonzero\" fill-opacity=\"1\" /><path clip-path=\"url(#clip190)\" d=\"M44.7161 730.487 L47.5806 730.487 L47.5806 757.414 Q53.6281 757.032 56.8109 753.785 Q59.9619 750.507 59.9619 744.682 Q59.9619 741.308 59.1344 738.157 Q58.3069 734.975 56.6518 731.855 L62.1899 731.855 Q63.5267 735.006 64.227 738.317 Q64.9272 741.627 64.9272 745.032 Q64.9272 753.562 59.9619 758.56 Q54.9967 763.525 46.5303 763.525 Q37.7774 763.525 32.6531 758.814 Q27.4968 754.072 27.4968 746.051 Q27.4968 738.858 32.1438 734.688 Q36.7589 730.487 44.7161 730.487 M42.9973 736.343 Q38.1912 736.407 35.3266 739.049 Q32.4621 741.659 32.4621 745.987 Q32.4621 750.889 35.2312 753.849 Q38.0002 756.777 43.0292 757.223 L42.9973 736.343 Z\" fill=\"#000000\" fill-rule=\"nonzero\" fill-opacity=\"1\" /><path clip-path=\"url(#clip190)\" d=\"M33.7671 697.417 L14.479 697.417 L14.479 691.56 L64.0042 691.56 L64.0042 697.417 L58.657 697.417 Q61.8398 699.263 63.3994 702.096 Q64.9272 704.897 64.9272 708.843 Q64.9272 715.305 59.771 719.379 Q54.6147 723.421 46.212 723.421 Q37.8093 723.421 32.6531 719.379 Q27.4968 715.305 27.4968 708.843 Q27.4968 704.897 29.0564 702.096 Q30.5842 699.263 33.7671 697.417 M46.212 717.373 Q52.6732 717.373 56.3653 714.732 Q60.0256 712.058 60.0256 707.411 Q60.0256 702.764 56.3653 700.09 Q52.6732 697.417 46.212 697.417 Q39.7508 697.417 36.0905 700.09 Q32.3984 702.764 32.3984 707.411 Q32.3984 712.058 36.0905 714.732 Q39.7508 717.373 46.212 717.373 Z\" fill=\"#000000\" fill-rule=\"nonzero\" fill-opacity=\"1\" /><path clip-path=\"url(#clip190)\" d=\"M18.2347 652.984 L28.3562 652.984 L28.3562 640.921 L32.9077 640.921 L32.9077 652.984 L52.2594 652.984 Q56.6199 652.984 57.8613 651.807 Q59.1026 650.597 59.1026 646.937 L59.1026 640.921 L64.0042 640.921 L64.0042 646.937 Q64.0042 653.716 61.4897 656.294 Q58.9434 658.873 52.2594 658.873 L32.9077 658.873 L32.9077 663.169 L28.3562 663.169 L28.3562 658.873 L18.2347 658.873 L18.2347 652.984 Z\" fill=\"#000000\" fill-rule=\"nonzero\" fill-opacity=\"1\" /><path clip-path=\"url(#clip190)\" d=\"M28.3562 633.219 L28.3562 627.362 L64.0042 627.362 L64.0042 633.219 L28.3562 633.219 M14.479 633.219 L14.479 627.362 L21.895 627.362 L21.895 633.219 L14.479 633.219 Z\" fill=\"#000000\" fill-rule=\"nonzero\" fill-opacity=\"1\" /><path clip-path=\"url(#clip190)\" d=\"M35.1993 587.354 Q31.2526 585.158 29.3747 582.102 Q27.4968 579.047 27.4968 574.909 Q27.4968 569.339 31.4117 566.315 Q35.2948 563.291 42.4881 563.291 L64.0042 563.291 L64.0042 569.18 L42.679 569.18 Q37.5546 569.18 35.072 570.994 Q32.5894 572.808 32.5894 576.532 Q32.5894 581.084 35.6131 583.725 Q38.6368 586.367 43.8567 586.367 L64.0042 586.367 L64.0042 592.255 L42.679 592.255 Q37.5228 592.255 35.072 594.07 Q32.5894 595.884 32.5894 599.671 Q32.5894 604.159 35.6449 606.801 Q38.6686 609.443 43.8567 609.443 L64.0042 609.443 L64.0042 615.331 L28.3562 615.331 L28.3562 609.443 L33.8944 609.443 Q30.616 607.438 29.0564 604.637 Q27.4968 601.836 27.4968 597.985 Q27.4968 594.101 29.4702 591.396 Q31.4436 588.659 35.1993 587.354 Z\" fill=\"#000000\" fill-rule=\"nonzero\" fill-opacity=\"1\" /><path clip-path=\"url(#clip190)\" d=\"M44.7161 521.119 L47.5806 521.119 L47.5806 548.046 Q53.6281 547.664 56.8109 544.417 Q59.9619 541.139 59.9619 535.314 Q59.9619 531.94 59.1344 528.789 Q58.3069 525.606 56.6518 522.487 L62.1899 522.487 Q63.5267 525.638 64.227 528.948 Q64.9272 532.259 64.9272 535.664 Q64.9272 544.194 59.9619 549.191 Q54.9967 554.157 46.5303 554.157 Q37.7774 554.157 32.6531 549.446 Q27.4968 544.704 27.4968 536.683 Q27.4968 529.49 32.1438 525.32 Q36.7589 521.119 44.7161 521.119 M42.9973 526.975 Q38.1912 527.039 35.3266 529.681 Q32.4621 532.29 32.4621 536.619 Q32.4621 541.521 35.2312 544.481 Q38.0002 547.409 43.0292 547.855 L42.9973 526.975 Z\" fill=\"#000000\" fill-rule=\"nonzero\" fill-opacity=\"1\" /><circle clip-path=\"url(#clip192)\" cx=\"310.845\" cy=\"1048.85\" r=\"14.4\" fill=\"#009af9\" fill-rule=\"evenodd\" fill-opacity=\"1\" stroke=\"#000000\" stroke-opacity=\"1\" stroke-width=\"3.2\"/>\n",
       "<circle clip-path=\"url(#clip192)\" cx=\"907.618\" cy=\"858.471\" r=\"14.4\" fill=\"#009af9\" fill-rule=\"evenodd\" fill-opacity=\"1\" stroke=\"#000000\" stroke-opacity=\"1\" stroke-width=\"3.2\"/>\n",
       "<circle clip-path=\"url(#clip192)\" cx=\"1256.71\" cy=\"387.797\" r=\"14.4\" fill=\"#009af9\" fill-rule=\"evenodd\" fill-opacity=\"1\" stroke=\"#000000\" stroke-opacity=\"1\" stroke-width=\"3.2\"/>\n",
       "<circle clip-path=\"url(#clip192)\" cx=\"1504.39\" cy=\"566.996\" r=\"14.4\" fill=\"#009af9\" fill-rule=\"evenodd\" fill-opacity=\"1\" stroke=\"#000000\" stroke-opacity=\"1\" stroke-width=\"3.2\"/>\n",
       "<circle clip-path=\"url(#clip192)\" cx=\"1696.51\" cy=\"439.136\" r=\"14.4\" fill=\"#009af9\" fill-rule=\"evenodd\" fill-opacity=\"1\" stroke=\"#000000\" stroke-opacity=\"1\" stroke-width=\"3.2\"/>\n",
       "<circle clip-path=\"url(#clip192)\" cx=\"1853.48\" cy=\"354.776\" r=\"14.4\" fill=\"#009af9\" fill-rule=\"evenodd\" fill-opacity=\"1\" stroke=\"#000000\" stroke-opacity=\"1\" stroke-width=\"3.2\"/>\n",
       "<circle clip-path=\"url(#clip192)\" cx=\"1986.2\" cy=\"266.392\" r=\"14.4\" fill=\"#009af9\" fill-rule=\"evenodd\" fill-opacity=\"1\" stroke=\"#000000\" stroke-opacity=\"1\" stroke-width=\"3.2\"/>\n",
       "<circle clip-path=\"url(#clip192)\" cx=\"2101.16\" cy=\"209.839\" r=\"14.4\" fill=\"#009af9\" fill-rule=\"evenodd\" fill-opacity=\"1\" stroke=\"#000000\" stroke-opacity=\"1\" stroke-width=\"3.2\"/>\n",
       "<circle clip-path=\"url(#clip192)\" cx=\"2202.57\" cy=\"145.523\" r=\"14.4\" fill=\"#009af9\" fill-rule=\"evenodd\" fill-opacity=\"1\" stroke=\"#000000\" stroke-opacity=\"1\" stroke-width=\"3.2\"/>\n",
       "<circle clip-path=\"url(#clip192)\" cx=\"2293.28\" cy=\"85.838\" r=\"14.4\" fill=\"#009af9\" fill-rule=\"evenodd\" fill-opacity=\"1\" stroke=\"#000000\" stroke-opacity=\"1\" stroke-width=\"3.2\"/>\n",
       "<polyline clip-path=\"url(#clip192)\" style=\"stroke:#e26f46; stroke-linecap:round; stroke-linejoin:round; stroke-width:4; stroke-opacity:1; fill:none\" stroke-dasharray=\"16, 10\" points=\"310.845,1372.3 907.618,985.038 1256.71,758.503 1504.39,597.774 1696.51,473.102 1853.48,371.239 1986.2,285.114 2101.16,210.509 2202.57,144.703 2293.28,85.838 \"/>\n",
       "<path clip-path=\"url(#clip190)\" d=\"M321.418 248.219 L699.056 248.219 L699.056 92.6992 L321.418 92.6992  Z\" fill=\"#ffffff\" fill-rule=\"evenodd\" fill-opacity=\"1\"/>\n",
       "<polyline clip-path=\"url(#clip190)\" style=\"stroke:#000000; stroke-linecap:round; stroke-linejoin:round; stroke-width:4; stroke-opacity:1; fill:none\" points=\"321.418,248.219 699.056,248.219 699.056,92.6992 321.418,92.6992 321.418,248.219 \"/>\n",
       "<circle clip-path=\"url(#clip190)\" cx=\"414.813\" cy=\"144.539\" r=\"20.48\" fill=\"#009af9\" fill-rule=\"evenodd\" fill-opacity=\"1\" stroke=\"#000000\" stroke-opacity=\"1\" stroke-width=\"4.55111\"/>\n",
       "<path clip-path=\"url(#clip190)\" d=\"M527.12 139.829 L527.12 125.801 L531.379 125.801 L531.379 161.819 L527.12 161.819 L527.12 157.93 Q525.777 160.245 523.717 161.379 Q521.68 162.49 518.81 162.49 Q514.111 162.49 511.148 158.74 Q508.208 154.991 508.208 148.879 Q508.208 142.768 511.148 139.018 Q514.111 135.268 518.81 135.268 Q521.68 135.268 523.717 136.403 Q525.777 137.514 527.12 139.829 M512.606 148.879 Q512.606 153.578 514.527 156.264 Q516.472 158.926 519.851 158.926 Q523.231 158.926 525.175 156.264 Q527.12 153.578 527.12 148.879 Q527.12 144.18 525.175 141.518 Q523.231 138.833 519.851 138.833 Q516.472 138.833 514.527 141.518 Q512.606 144.18 512.606 148.879 Z\" fill=\"#000000\" fill-rule=\"nonzero\" fill-opacity=\"1\" /><path clip-path=\"url(#clip190)\" d=\"M551.935 148.787 Q546.773 148.787 544.782 149.967 Q542.791 151.148 542.791 153.995 Q542.791 156.264 544.273 157.606 Q545.777 158.926 548.347 158.926 Q551.888 158.926 554.018 156.426 Q556.171 153.903 556.171 149.736 L556.171 148.787 L551.935 148.787 M560.43 147.028 L560.43 161.819 L556.171 161.819 L556.171 157.884 Q554.712 160.245 552.536 161.379 Q550.361 162.49 547.212 162.49 Q543.231 162.49 540.87 160.268 Q538.532 158.023 538.532 154.273 Q538.532 149.898 541.449 147.676 Q544.388 145.454 550.198 145.454 L556.171 145.454 L556.171 145.037 Q556.171 142.097 554.226 140.5 Q552.305 138.879 548.81 138.879 Q546.587 138.879 544.481 139.412 Q542.374 139.944 540.43 141.009 L540.43 137.074 Q542.768 136.171 544.967 135.731 Q547.166 135.268 549.249 135.268 Q554.874 135.268 557.652 138.185 Q560.43 141.102 560.43 147.028 Z\" fill=\"#000000\" fill-rule=\"nonzero\" fill-opacity=\"1\" /><path clip-path=\"url(#clip190)\" d=\"M573.416 128.532 L573.416 135.893 L582.189 135.893 L582.189 139.204 L573.416 139.204 L573.416 153.278 Q573.416 156.449 574.272 157.352 Q575.152 158.254 577.814 158.254 L582.189 158.254 L582.189 161.819 L577.814 161.819 Q572.884 161.819 571.009 159.99 Q569.134 158.139 569.134 153.278 L569.134 139.204 L566.009 139.204 L566.009 135.893 L569.134 135.893 L569.134 128.532 L573.416 128.532 Z\" fill=\"#000000\" fill-rule=\"nonzero\" fill-opacity=\"1\" /><path clip-path=\"url(#clip190)\" d=\"M599.573 148.787 Q594.411 148.787 592.42 149.967 Q590.43 151.148 590.43 153.995 Q590.43 156.264 591.911 157.606 Q593.416 158.926 595.985 158.926 Q599.527 158.926 601.657 156.426 Q603.809 153.903 603.809 149.736 L603.809 148.787 L599.573 148.787 M608.069 147.028 L608.069 161.819 L603.809 161.819 L603.809 157.884 Q602.351 160.245 600.175 161.379 Q597.999 162.49 594.851 162.49 Q590.87 162.49 588.508 160.268 Q586.171 158.023 586.171 154.273 Q586.171 149.898 589.087 147.676 Q592.027 145.454 597.837 145.454 L603.809 145.454 L603.809 145.037 Q603.809 142.097 601.865 140.5 Q599.944 138.879 596.448 138.879 Q594.226 138.879 592.12 139.412 Q590.013 139.944 588.069 141.009 L588.069 137.074 Q590.407 136.171 592.606 135.731 Q594.805 135.268 596.888 135.268 Q602.513 135.268 605.291 138.185 Q608.069 141.102 608.069 147.028 Z\" fill=\"#000000\" fill-rule=\"nonzero\" fill-opacity=\"1\" /><polyline clip-path=\"url(#clip190)\" style=\"stroke:#e26f46; stroke-linecap:round; stroke-linejoin:round; stroke-width:4; stroke-opacity:1; fill:none\" stroke-dasharray=\"16, 10\" points=\"344.767,196.379 484.859,196.379 \"/>\n",
       "<path clip-path=\"url(#clip190)\" d=\"M524.226 182.27 Q519.134 182.27 516.125 186.067 Q513.138 189.863 513.138 196.414 Q513.138 202.942 516.125 206.738 Q519.134 210.534 524.226 210.534 Q529.319 210.534 532.282 206.738 Q535.268 202.942 535.268 196.414 Q535.268 189.863 532.282 186.067 Q529.319 182.27 524.226 182.27 M524.226 178.474 Q531.495 178.474 535.847 183.358 Q540.199 188.22 540.199 196.414 Q540.199 204.585 535.847 209.469 Q531.495 214.33 524.226 214.33 Q516.935 214.33 512.56 209.469 Q508.208 204.608 508.208 196.414 Q508.208 188.22 512.56 183.358 Q516.935 178.474 524.226 178.474 Z\" fill=\"#000000\" fill-rule=\"nonzero\" fill-opacity=\"1\" /><path clip-path=\"url(#clip190)\" d=\"M557.56 177.687 Q554.458 183.011 552.953 188.22 Q551.448 193.428 551.448 198.775 Q551.448 204.122 552.953 209.377 Q554.481 214.608 557.56 219.909 L553.856 219.909 Q550.384 214.469 548.648 209.215 Q546.935 203.96 546.935 198.775 Q546.935 193.613 548.648 188.382 Q550.361 183.15 553.856 177.687 L557.56 177.687 Z\" fill=\"#000000\" fill-rule=\"nonzero\" fill-opacity=\"1\" /><path clip-path=\"url(#clip190)\" d=\"M587.374 198.011 L587.374 213.659 L583.115 213.659 L583.115 198.15 Q583.115 194.469 581.68 192.641 Q580.245 190.812 577.374 190.812 Q573.925 190.812 571.934 193.011 Q569.944 195.21 569.944 199.006 L569.944 213.659 L565.661 213.659 L565.661 187.733 L569.944 187.733 L569.944 191.761 Q571.472 189.423 573.532 188.266 Q575.615 187.108 578.323 187.108 Q582.791 187.108 585.083 189.886 Q587.374 192.641 587.374 198.011 Z\" fill=\"#000000\" fill-rule=\"nonzero\" fill-opacity=\"1\" /><path clip-path=\"url(#clip190)\" d=\"M613.531 179.099 L626.101 191.993 L621.448 191.993 L611.263 182.849 L601.078 191.993 L596.425 191.993 L608.994 179.099 L613.531 179.099 Z\" fill=\"#000000\" fill-rule=\"nonzero\" fill-opacity=\"1\" /><path clip-path=\"url(#clip190)\" d=\"M650.36 195.025 Q653.716 195.743 655.591 198.011 Q657.49 200.28 657.49 203.613 Q657.49 208.729 653.971 211.53 Q650.453 214.33 643.971 214.33 Q641.795 214.33 639.48 213.891 Q637.189 213.474 634.735 212.618 L634.735 208.104 Q636.679 209.238 638.994 209.817 Q641.309 210.395 643.832 210.395 Q648.23 210.395 650.522 208.659 Q652.837 206.923 652.837 203.613 Q652.837 200.557 650.684 198.844 Q648.554 197.108 644.735 197.108 L640.707 197.108 L640.707 193.266 L644.92 193.266 Q648.369 193.266 650.198 191.9 Q652.027 190.511 652.027 187.919 Q652.027 185.257 650.128 183.845 Q648.254 182.409 644.735 182.409 Q642.814 182.409 640.615 182.826 Q638.416 183.243 635.777 184.122 L635.777 179.956 Q638.439 179.215 640.754 178.845 Q643.091 178.474 645.152 178.474 Q650.476 178.474 653.578 180.905 Q656.679 183.312 656.679 187.432 Q656.679 190.303 655.036 192.294 Q653.392 194.261 650.36 195.025 Z\" fill=\"#000000\" fill-rule=\"nonzero\" fill-opacity=\"1\" /><path clip-path=\"url(#clip190)\" d=\"M665.082 177.687 L668.786 177.687 Q672.258 183.15 673.971 188.382 Q675.707 193.613 675.707 198.775 Q675.707 203.96 673.971 209.215 Q672.258 214.469 668.786 219.909 L665.082 219.909 Q668.161 214.608 669.665 209.377 Q671.193 204.122 671.193 198.775 Q671.193 193.428 669.665 188.22 Q668.161 183.011 665.082 177.687 Z\" fill=\"#000000\" fill-rule=\"nonzero\" fill-opacity=\"1\" /></svg>\n"
      ]
     },
     "execution_count": 24,
     "metadata": {},
     "output_type": "execute_result"
    }
   ],
   "source": [
    "using Plots\n",
    "\n",
    "scatter(n,t,label=\"data\",legend=:topleft,\n",
    "    xaxis=(:log10,\"n\"), yaxis=(:log10,\"elapsed time\"))\n",
    "plot!(n,t[end]*(n/n[end]).^3,l=:dash,label=\"O(n^3)\")"
   ]
  },
  {
   "cell_type": "markdown",
   "id": "0ab61128",
   "metadata": {},
   "source": [
    "# Row pivoting"
   ]
  },
  {
   "cell_type": "code",
   "execution_count": 25,
   "id": "cc1720b3",
   "metadata": {},
   "outputs": [
    {
     "data": {
      "text/plain": [
       "4×4 LowerTriangular{Float64, Matrix{Float64}}:\n",
       "  1.0   ⋅     ⋅    ⋅ \n",
       " -2.0  1.0    ⋅    ⋅ \n",
       "  0.5  3.0   1.0   ⋅ \n",
       " -1.0  0.0  -2.0  1.0"
      ]
     },
     "execution_count": 25,
     "metadata": {},
     "output_type": "execute_result"
    }
   ],
   "source": [
    "A = [2 0 4 3; -4 5 -7 -10; 1 15 2 -4.5; -2 0 2 -13];\n",
    "L,U = lufact(A);\n",
    "L"
   ]
  },
  {
   "cell_type": "code",
   "execution_count": 26,
   "id": "0d54a326",
   "metadata": {},
   "outputs": [
    {
     "data": {
      "text/plain": [
       "4×4 LowerTriangular{Float64, Matrix{Float64}}:\n",
       "  1.0     ⋅      ⋅    ⋅ \n",
       " -1.0  NaN       ⋅    ⋅ \n",
       "  0.5   Inf   NaN     ⋅ \n",
       " -2.0   Inf   NaN    1.0"
      ]
     },
     "execution_count": 26,
     "metadata": {},
     "output_type": "execute_result"
    }
   ],
   "source": [
    "A[[2,4],:] = A[[4,2],:]\n",
    "L,U = lufact(A);\n",
    "L"
   ]
  },
  {
   "cell_type": "markdown",
   "id": "3d3d5c0c",
   "metadata": {},
   "source": [
    "After swapping the 2nd and 4th rows of $\\mathbf{A}$, the matrix is still nonsingular, but now the LU factorization fails due to dividing by a diagonal element of $\\mathbf{U}$ that is zero.  The diagonal element of $\\mathbf{U}$ by which we divide is called the **pivot element** of its column."
   ]
  },
  {
   "cell_type": "markdown",
   "id": "d8fbcd0f",
   "metadata": {},
   "source": [
    "## Choosing a pivot\n",
    "\n",
    "In order to avoid a zero pivot in the factorization process, we use a technique known as **row pivoting**: when performing elimination in the $j$th column, choose as the pivot the element in column $j$ that is largest in absolute value."
   ]
  },
  {
   "cell_type": "code",
   "execution_count": 27,
   "id": "c1daec8d",
   "metadata": {},
   "outputs": [
    {
     "data": {
      "text/plain": [
       "4×4 Matrix{Float64}:\n",
       "  2.0   0.0   4.0    3.0\n",
       " -2.0   0.0   2.0  -13.0\n",
       "  1.0  15.0   2.0   -4.5\n",
       " -4.0   5.0  -7.0  -10.0"
      ]
     },
     "execution_count": 27,
     "metadata": {},
     "output_type": "execute_result"
    }
   ],
   "source": [
    "A₁ = [2 0 4 3; -2 0 2 -13; 1 15 2 -4.5; -4 5 -7 -10]"
   ]
  },
  {
   "cell_type": "markdown",
   "id": "5be00093",
   "metadata": {},
   "source": [
    "---"
   ]
  },
  {
   "cell_type": "code",
   "execution_count": 28,
   "id": "a42afaa0",
   "metadata": {},
   "outputs": [
    {
     "data": {
      "text/plain": [
       "4"
      ]
     },
     "execution_count": 28,
     "metadata": {},
     "output_type": "execute_result"
    }
   ],
   "source": [
    "i = argmax( abs.(A₁[:,1]) )"
   ]
  },
  {
   "cell_type": "code",
   "execution_count": 29,
   "id": "7ef70320",
   "metadata": {},
   "outputs": [
    {
     "data": {
      "text/plain": [
       "4×4 Matrix{Float64}:\n",
       " 0.0   2.5   0.5   -2.0\n",
       " 0.0  -2.5   5.5   -8.0\n",
       " 0.0  16.25  0.25  -7.0\n",
       " 0.0   0.0   0.0    0.0"
      ]
     },
     "execution_count": 29,
     "metadata": {},
     "output_type": "execute_result"
    }
   ],
   "source": [
    "L,U = zeros(4,4),zeros(4,4)\n",
    "U[1,:] = A₁[i,:]\n",
    "L[:,1]= A₁[:,1]/U[1,1]\n",
    "A₂ = A₁ - L[:,1]*U[1,:]'"
   ]
  },
  {
   "cell_type": "code",
   "execution_count": 30,
   "id": "05f3732f",
   "metadata": {},
   "outputs": [
    {
     "name": "stdout",
     "output_type": "stream",
     "text": [
      "i = argmax(abs.(A₂[:, 2])) = 3\n"
     ]
    },
    {
     "data": {
      "text/plain": [
       "4×4 Matrix{Float64}:\n",
       " 0.0  0.0  0.461538  -0.923077\n",
       " 0.0  0.0  5.53846   -9.07692\n",
       " 0.0  0.0  0.0        0.0\n",
       " 0.0  0.0  0.0        0.0"
      ]
     },
     "execution_count": 30,
     "metadata": {},
     "output_type": "execute_result"
    }
   ],
   "source": [
    "@show i = argmax( abs.(A₂[:,2]) )\n",
    "U[2,:] = A₂[i,:]\n",
    "L[:,2] = A₂[:,2]/U[2,2]\n",
    "A₃ = A₂ - L[:,2]*U[2,:]'"
   ]
  },
  {
   "cell_type": "markdown",
   "id": "e2c2a77e",
   "metadata": {},
   "source": [
    "---"
   ]
  },
  {
   "cell_type": "code",
   "execution_count": 32,
   "id": "bb0a49bd",
   "metadata": {},
   "outputs": [
    {
     "name": "stdout",
     "output_type": "stream",
     "text": [
      "i = argmax(abs.(A₃[:, 3])) = 2\n"
     ]
    },
    {
     "data": {
      "text/plain": [
       "4×4 Matrix{Float64}:\n",
       " 0.0  0.0  0.0  -0.166667\n",
       " 0.0  0.0  0.0   0.0\n",
       " 0.0  0.0  0.0   0.0\n",
       " 0.0  0.0  0.0   0.0"
      ]
     },
     "execution_count": 32,
     "metadata": {},
     "output_type": "execute_result"
    }
   ],
   "source": [
    "@show i = argmax( abs.(A₃[:,3]) )\n",
    "U[3,:] = A₃[i,:]\n",
    "L[:,3] = A₃[:,3]/U[3,3]\n",
    "A₄ = A₃ - L[:,3]*U[3,:]'"
   ]
  },
  {
   "cell_type": "code",
   "execution_count": 33,
   "id": "467735f9",
   "metadata": {},
   "outputs": [
    {
     "name": "stdout",
     "output_type": "stream",
     "text": [
      "i = argmax(abs.(A₄[:, 4])) = 1\n"
     ]
    }
   ],
   "source": [
    "@show i = argmax( abs.(A₄[:,4]) )\n",
    "U[4,:] = A₄[i,:]\n",
    "L[:,4] = A₄[:,4]/U[4,4];"
   ]
  },
  {
   "cell_type": "markdown",
   "id": "ab35c87f",
   "metadata": {},
   "source": [
    "---"
   ]
  },
  {
   "cell_type": "code",
   "execution_count": 34,
   "id": "1c42d48b",
   "metadata": {},
   "outputs": [
    {
     "data": {
      "text/plain": [
       "4×4 Matrix{Float64}:\n",
       " 0.0  -1.38778e-16  0.0  0.0\n",
       " 0.0   1.38778e-16  0.0  0.0\n",
       " 0.0   0.0          0.0  0.0\n",
       " 0.0   0.0          0.0  0.0"
      ]
     },
     "execution_count": 34,
     "metadata": {},
     "output_type": "execute_result"
    }
   ],
   "source": [
    "A₁ - L*U"
   ]
  },
  {
   "cell_type": "code",
   "execution_count": 35,
   "id": "ab4a991d",
   "metadata": {},
   "outputs": [
    {
     "data": {
      "text/plain": [
       "4×4 Matrix{Float64}:\n",
       " -4.0   5.0   -7.0      -10.0\n",
       "  0.0  16.25   0.25      -7.0\n",
       "  0.0   0.0    5.53846   -9.07692\n",
       "  0.0   0.0    0.0       -0.166667"
      ]
     },
     "execution_count": 35,
     "metadata": {},
     "output_type": "execute_result"
    }
   ],
   "source": [
    "U"
   ]
  },
  {
   "cell_type": "code",
   "execution_count": 36,
   "id": "7cbd7302",
   "metadata": {},
   "outputs": [
    {
     "data": {
      "text/plain": [
       "4×4 Matrix{Float64}:\n",
       " -0.5    0.153846  0.0833333   1.0\n",
       "  0.5   -0.153846  1.0        -0.0\n",
       " -0.25   1.0       0.0        -0.0\n",
       "  1.0    0.0       0.0        -0.0"
      ]
     },
     "execution_count": 36,
     "metadata": {},
     "output_type": "execute_result"
    }
   ],
   "source": [
    "L"
   ]
  },
  {
   "cell_type": "markdown",
   "id": "7d6d2baf",
   "metadata": {},
   "source": [
    ". . .\n",
    "\n",
    "$\\mathbf{L}$ doesn't have the required lower triangular structure!\n",
    "\n",
    "---\n",
    "\n",
    "::: {.callout-warning icon=false}\n",
    "## Theorem: Row pivoting\n",
    "The row-pivoted LU factorization runs to completion if and only if the original matrix is invertible.\n",
    ":::\n",
    "\n",
    ". . . \n",
    "\n",
    "Linear systems with uninvertible matrices have either no solution or infinitely many.  We need techniques other than LU factorization to deal with such systems."
   ]
  },
  {
   "cell_type": "markdown",
   "id": "190f06c9",
   "metadata": {},
   "source": [
    "## Permutations\n",
    "\n",
    "The $\\mathbf{L}$ matrix calculated in the last example is not lower-triangular, but is if we simply reverse the rows.  In fact, it will be true in general that the $\\mathbf{L}$ calculated will be lower-triangular after a permutation of the rows.  \n",
    "\n",
    "[We can think of the algorithm as behaving exactly the original LU factorization technique (without row pivoting) if we reorder the rows of the original matrix in order of the row pivot indices identified in each of the steps.  (For our example, this would be putting row 4 at the top, then row 3, then row 2, and then row1.)]{.content-hidden when-format='revealjs' when-format='pptx'} "
   ]
  },
  {
   "cell_type": "code",
   "execution_count": 37,
   "id": "fc76b305",
   "metadata": {},
   "outputs": [],
   "source": [
    "B = A[ [4,3,2,1], : ]\n",
    "L, U = lufact(B);"
   ]
  },
  {
   "cell_type": "code",
   "execution_count": 38,
   "id": "1cf2d7ab",
   "metadata": {},
   "outputs": [
    {
     "data": {
      "text/plain": [
       "4×4 UpperTriangular{Float64, Matrix{Float64}}:\n",
       " -4.0   5.0   -7.0      -10.0\n",
       "   ⋅   16.25   0.25      -7.0\n",
       "   ⋅     ⋅     5.53846   -9.07692\n",
       "   ⋅     ⋅      ⋅        -0.166667"
      ]
     },
     "execution_count": 38,
     "metadata": {},
     "output_type": "execute_result"
    }
   ],
   "source": [
    "U"
   ]
  },
  {
   "cell_type": "code",
   "execution_count": 39,
   "id": "42bdb49a",
   "metadata": {},
   "outputs": [
    {
     "data": {
      "text/plain": [
       "4×4 LowerTriangular{Float64, Matrix{Float64}}:\n",
       "  1.0     ⋅         ⋅          ⋅ \n",
       " -0.25   1.0        ⋅          ⋅ \n",
       "  0.5   -0.153846  1.0         ⋅ \n",
       " -0.5    0.153846  0.0833333  1.0"
      ]
     },
     "execution_count": 39,
     "metadata": {},
     "output_type": "execute_result"
    }
   ],
   "source": [
    "L"
   ]
  },
  {
   "cell_type": "markdown",
   "id": "bd61a8e6",
   "metadata": {},
   "source": [
    "$\\mathbf{L}$ is the same matrix as before, but with the rows permuted to reverse order!\n",
    "\n",
    "---\n",
    "\n",
    "::: {.callout-warning icon=false}\n",
    "## Theorem: PLU factorization\n",
    "Given $n \\times n$ matrix $\\mathbf{A}$, the **PLU factorization** is a unit lower triangular matrix $\\mathbf{L}$, an upper triangular matrix $\\mathbf{U}$, and a permutation $i_1, \\cdots, i_n$ of the integers $1, \\cdots, n$ such that $$\\tilde{\\mathbf{A}} = \\mathbf{L}\\mathbf{U},$$ where rows $1, \\cdots, n$ of $\\tilde{\\mathbf{A}}$ are rows $i_1, \\cdots, i_n$ of $\\mathbf{A}$.\n",
    ":::"
   ]
  },
  {
   "cell_type": "code",
   "execution_count": 51,
   "id": "f750a0f2",
   "metadata": {},
   "outputs": [
    {
     "data": {
      "text/plain": [
       "plufact"
      ]
     },
     "execution_count": 51,
     "metadata": {},
     "output_type": "execute_result"
    }
   ],
   "source": [
    "\"\"\"\n",
    "    plufact(A)\n",
    "\n",
    "Compute the PLU factorization of square matrix `A`, returning factors and row permutation.\n",
    "\"\"\"\n",
    "function plufact(A)\n",
    "    n = size(A,1)\n",
    "    L,U,p,Ak = zeros(n,n),zeros(n,n),fill(0,n),float(copy(A))\n",
    "\n",
    "    #Reduction by outer products\n",
    "    for k in 1:n-1\n",
    "        p[k] = argmax(abs.(Ak[:,k]))\n",
    "        U[k,:] = Ak[p[k],:]\n",
    "        L[:,k] = Ak[:,k]/U[k,k]\n",
    "        Ak -= L[:,k]*U[k,:]'\n",
    "    end\n",
    "    p[n] = argmax(abs.(Ak[:,n]))\n",
    "    U[n,n] = Ak[p[n],n]\n",
    "    L[:,n] = Ak[:,n]/U[n,n]\n",
    "    return LowerTriangular(L[p,:]),U,p\n",
    "end"
   ]
  },
  {
   "cell_type": "markdown",
   "id": "e4d4d51c",
   "metadata": {},
   "source": [
    "## Linear systems"
   ]
  },
  {
   "cell_type": "code",
   "execution_count": 52,
   "id": "0a4e5bde",
   "metadata": {},
   "outputs": [
    {
     "data": {
      "text/plain": [
       "4×4 Matrix{Float64}:\n",
       " 0.0  0.0   0.0          0.0\n",
       " 0.0  0.0   0.0          0.0\n",
       " 0.0  0.0   0.0          0.0\n",
       " 0.0  0.0  -8.88178e-16  3.55271e-15"
      ]
     },
     "execution_count": 52,
     "metadata": {},
     "output_type": "execute_result"
    }
   ],
   "source": [
    "A = rand(1:20,4,4)\n",
    "L,U,p = plufact(A)\n",
    "A[p,:] - L*U"
   ]
  },
  {
   "cell_type": "code",
   "execution_count": 53,
   "id": "2a7982a3",
   "metadata": {},
   "outputs": [
    {
     "data": {
      "text/plain": [
       "4-element Vector{Float64}:\n",
       "  0.02074712679808451\n",
       "  0.029105191666686472\n",
       " -0.0019461283650047195\n",
       " -0.019593097289861985"
      ]
     },
     "execution_count": 53,
     "metadata": {},
     "output_type": "execute_result"
    }
   ],
   "source": [
    "using FundamentalsNumericalComputation;\n",
    "\n",
    "b = rand(4)\n",
    "z = FNC.forwardsub(L,b[p])\n",
    "x = FNC.backsub(U,z)"
   ]
  },
  {
   "cell_type": "code",
   "execution_count": 54,
   "id": "38a49915",
   "metadata": {},
   "outputs": [
    {
     "data": {
      "text/plain": [
       "4-element Vector{Float64}:\n",
       " 1.1102230246251565e-16\n",
       " 1.1102230246251565e-16\n",
       " 0.0\n",
       " 5.551115123125783e-17"
      ]
     },
     "execution_count": 54,
     "metadata": {},
     "output_type": "execute_result"
    }
   ],
   "source": [
    "b - A*x"
   ]
  },
  {
   "cell_type": "markdown",
   "id": "eae28d7e",
   "metadata": {},
   "source": [
    "## Stability\n",
    "\n",
    "The reason for choosing the largest magnitude pivot during row-pivoting is numerical stability!  \n",
    "\n",
    ". . .\n",
    "\n",
    "Consider the example $$\\mathbf{A} = \\begin{bmatrix} -\\epsilon & 1 \\\\ 1 & -1 \\end{bmatrix}.$$"
   ]
  },
  {
   "cell_type": "code",
   "execution_count": 56,
   "id": "cf6b1564",
   "metadata": {},
   "outputs": [],
   "source": [
    "ϵ = 1e-12\n",
    "A = [-ϵ 1; 1 -1]\n",
    "b = A*[1,1];"
   ]
  },
  {
   "cell_type": "code",
   "execution_count": 57,
   "id": "c2179983",
   "metadata": {},
   "outputs": [
    {
     "data": {
      "text/plain": [
       "2-element Vector{Float64}:\n",
       " 0.9999778782798785\n",
       " 1.0"
      ]
     },
     "execution_count": 57,
     "metadata": {},
     "output_type": "execute_result"
    }
   ],
   "source": [
    "L,U = lufact(A)\n",
    "x = FNC.backsub( U, FNC.forwardsub(L,b) )"
   ]
  },
  {
   "cell_type": "markdown",
   "id": "16cf1f80",
   "metadata": {},
   "source": [
    "We have only five digits of accuracy.  This gets even worse if $\\epsilon$ is smaller!\n",
    "\n",
    "---"
   ]
  },
  {
   "cell_type": "code",
   "execution_count": 58,
   "id": "0875f46d",
   "metadata": {},
   "outputs": [
    {
     "data": {
      "text/plain": [
       "2-element Vector{Float64}:\n",
       " -0.0\n",
       "  1.0"
      ]
     },
     "execution_count": 58,
     "metadata": {},
     "output_type": "execute_result"
    }
   ],
   "source": [
    "ϵ = 1e-20\n",
    "A = [-ϵ 1; 1 -1]\n",
    "b = A*[1,1]\n",
    "L,U = lufact(A)\n",
    "x = FNC.backsub( U, FNC.forwardsub(L,b) )"
   ]
  },
  {
   "cell_type": "markdown",
   "id": "945b3b0b",
   "metadata": {},
   "source": [
    "This is not due to ill-conditioning of the problem -- a solution with PLU factorization works perfectly! (PLU factorization is used under the hood in the `\\` operator.)"
   ]
  },
  {
   "cell_type": "code",
   "execution_count": 59,
   "id": "1de90771",
   "metadata": {},
   "outputs": [
    {
     "data": {
      "text/plain": [
       "2-element Vector{Float64}:\n",
       " 1.0\n",
       " 1.0"
      ]
     },
     "execution_count": 59,
     "metadata": {},
     "output_type": "execute_result"
    }
   ],
   "source": [
    "A\\b"
   ]
  },
  {
   "cell_type": "markdown",
   "id": "b2c12669-a869-46d9-aa62-bbb2a02b1783",
   "metadata": {},
   "source": [
    "<!--\n",
    "[verbose test]{.content-hidden when-format=\"revealjs\" when-format=\"pptx\"}\n",
    "\n",
    "::: {.callout-caution icon=false}\n",
    "## Exercise: \n",
    "\n",
    ":::\n",
    "\n",
    "<details><summary>Answer:</summary> </details>\n",
    "\n",
    "\n",
    "::: {.callout-note icon=false}\n",
    "## Definition: \n",
    " \n",
    ":::\n",
    "\n",
    "\n",
    "::: {.callout-tip icon=false}\n",
    "## Note: \n",
    " \n",
    ":::\n",
    "-->"
   ]
  }
 ],
 "metadata": {
  "kernelspec": {
   "display_name": "Julia 1.11.2",
   "language": "julia",
   "name": "julia-1.11"
  },
  "language_info": {
   "file_extension": ".jl",
   "mimetype": "application/julia",
   "name": "julia",
   "version": "1.11.2"
  }
 },
 "nbformat": 4,
 "nbformat_minor": 5
}
